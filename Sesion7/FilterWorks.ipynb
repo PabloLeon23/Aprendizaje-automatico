{
 "cells": [
  {
   "cell_type": "code",
   "execution_count": 1,
   "metadata": {
    "collapsed": true
   },
   "outputs": [],
   "source": [
    "import csv\n",
    "import numpy as np"
   ]
  },
  {
   "cell_type": "markdown",
   "metadata": {},
   "source": [
    "<p style=\"font-family:courier;\">Function that calculate if two work elements are refering to the same real work.</p>"
   ]
  },
  {
   "cell_type": "code",
   "execution_count": 2,
   "metadata": {
    "collapsed": false
   },
   "outputs": [],
   "source": [
    "def is_same(w1, w2):\n",
    "    date1, date2 = np.datetime64(w1[1] + ' ' + w1[2]), np.datetime64(w2[1] + ' ' + w2[2])\n",
    "    lon1, lon2, lat1, lat2 = map(float, (w1[-2], w2[-2], w1[-1], w2[-1]))\n",
    "    \n",
    "    distance = np.sqrt((lon1-lon2)**2 + (lat1-lat2)**2)\n",
    "    date_condition_strong = date2 - np.timedelta64(5, 'h') <= date1 <= date2 + np.timedelta64(5, 'h')\n",
    "    date_condition_light = date2 - np.timedelta64(24, 'h') <= date1 <= date2 + np.timedelta64(24, 'h')\n",
    "    spacial_condition = distance <= 0.05\n",
    "    \n",
    "    return date_condition_strong and spacial_condition or date_condition_light and distance == 0"
   ]
  },
  {
   "cell_type": "markdown",
   "metadata": {},
   "source": [
    "<p style=\"font-family:courier;\">Open the file of the 2007 works.</p>"
   ]
  },
  {
   "cell_type": "code",
   "execution_count": 3,
   "metadata": {
    "collapsed": true
   },
   "outputs": [],
   "source": [
    "f = open('../Data/Works2007.csv')\n",
    "csv_file = csv.reader(f)\n",
    "headers = csv_file.next()"
   ]
  },
  {
   "cell_type": "markdown",
   "metadata": {},
   "source": [
    "<p style=\"font-family:courier;\">Iterate over the works and check if a work is repeated.</p>"
   ]
  },
  {
   "cell_type": "code",
   "execution_count": 4,
   "metadata": {
    "collapsed": false
   },
   "outputs": [],
   "source": [
    "works = list()\n",
    "for w1 in csv_file:\n",
    "    eq = False\n",
    "    for w2 in works:\n",
    "        if is_same(w1, w2):\n",
    "            eq = True\n",
    "            break\n",
    "    if not eq:\n",
    "        works.append(w1)\n",
    "f.close()"
   ]
  },
  {
   "cell_type": "markdown",
   "metadata": {},
   "source": [
    "<p style=\"font-family:courier;\">Write the works filtered in a new file.</p>"
   ]
  },
  {
   "cell_type": "code",
   "execution_count": 6,
   "metadata": {
    "collapsed": false
   },
   "outputs": [],
   "source": [
    "f_out = open('../Data/Works2007_filtered.csv', 'w')\n",
    "csv_out = csv.writer(f_out)\n",
    "csv_out.writerow(headers)\n",
    "csv_out.writerows(works)"
   ]
  }
 ],
 "metadata": {
  "kernelspec": {
   "display_name": "Python [Root]",
   "language": "python",
   "name": "Python [Root]"
  },
  "language_info": {
   "codemirror_mode": {
    "name": "ipython",
    "version": 2
   },
   "file_extension": ".py",
   "mimetype": "text/x-python",
   "name": "python",
   "nbconvert_exporter": "python",
   "pygments_lexer": "ipython2",
   "version": "2.7.12"
  }
 },
 "nbformat": 4,
 "nbformat_minor": 0
}
