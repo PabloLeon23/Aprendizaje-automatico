{
 "cells": [
  {
   "cell_type": "code",
   "execution_count": 23,
   "metadata": {
    "collapsed": true
   },
   "outputs": [],
   "source": [
    "import pandas as pd\n",
    "import numpy as np\n",
    "import collections"
   ]
  },
  {
   "cell_type": "code",
   "execution_count": 24,
   "metadata": {
    "collapsed": false
   },
   "outputs": [],
   "source": [
    "df_accidents = pd.read_csv('../Data/Accidents_zones_dbscan.csv')\n",
    "df_accidents = df_accidents = df_accidents[['longitud', 'latitud', 'zona']]\n",
    "df_accidents = df_accidents[df_accidents['zona'] != -1]"
   ]
  },
  {
   "cell_type": "code",
   "execution_count": 25,
   "metadata": {
    "collapsed": true
   },
   "outputs": [],
   "source": [
    "df_works = pd.read_csv('../Data/Works2007_filtered.csv')\n",
    "df_works = df_works[['longitud', 'latitud']]"
   ]
  },
  {
   "cell_type": "code",
   "execution_count": 26,
   "metadata": {
    "collapsed": false
   },
   "outputs": [],
   "source": [
    "from sklearn import neighbors"
   ]
  },
  {
   "cell_type": "code",
   "execution_count": 27,
   "metadata": {
    "collapsed": false
   },
   "outputs": [],
   "source": [
    "K = 2 #Fixed in Sesion5\n",
    "weight = 'distance'\n",
    "\n",
    "clf = neighbors.KNeighborsClassifier(n_neighbors=K, weights=weight)\n",
    "clf.fit(df_accidents[['longitud', 'latitud']], df_accidents['zona'])\n",
    "Z = clf.predict(df_works)\n",
    "Z_count = collections.Counter(Z)"
   ]
  },
  {
   "cell_type": "code",
   "execution_count": 28,
   "metadata": {
    "collapsed": false
   },
   "outputs": [],
   "source": [
    "import csv"
   ]
  },
  {
   "cell_type": "code",
   "execution_count": 29,
   "metadata": {
    "collapsed": false
   },
   "outputs": [],
   "source": [
    "f = open('../Data/Zones_labels.csv')\n",
    "csv_file = csv.reader(f)\n",
    "headers = csv_file.next()"
   ]
  },
  {
   "cell_type": "code",
   "execution_count": 30,
   "metadata": {
    "collapsed": false
   },
   "outputs": [],
   "source": [
    "zones = []\n",
    "for row in csv_file:\n",
    "    row.append(Z_count[int(row[0])])\n",
    "    zones.append(row)\n",
    "f.close()"
   ]
  },
  {
   "cell_type": "code",
   "execution_count": 31,
   "metadata": {
    "collapsed": false
   },
   "outputs": [],
   "source": [
    "headers.append('works')\n",
    "f_out = open('../Data/Zones_with_number_works.csv', 'w')\n",
    "csv_out = csv.writer(f_out)\n",
    "csv_out.writerow(headers)\n",
    "csv_out.writerows(zones)\n",
    "f_out.close()"
   ]
  },
  {
   "cell_type": "code",
   "execution_count": 10,
   "metadata": {
    "collapsed": true
   },
   "outputs": [],
   "source": [
    "from sklearn.cluster import KMeans"
   ]
  },
  {
   "cell_type": "code",
   "execution_count": 16,
   "metadata": {
    "collapsed": false
   },
   "outputs": [],
   "source": [
    "k = 3\n",
    "init = 'k-means++' \n",
    "iterations = 10 \n",
    "max_iter = 300\n",
    "\n",
    "X = [[x[-1]] for x in zones]\n",
    "km = KMeans(k, n_init=iterations, max_iter=max_iter, init=init)\n",
    "labels = km.fit_predict(X)"
   ]
  },
  {
   "cell_type": "code",
   "execution_count": 20,
   "metadata": {
    "collapsed": false
   },
   "outputs": [],
   "source": [
    "zones_with_discrete_works = []\n",
    "for i, z in enumerate(zones):\n",
    "    nz = z[:]\n",
    "    if labels[i] == 0:\n",
    "        nz[-1] = 'many'\n",
    "    elif labels[i] == 1:\n",
    "        nz[-1] = 'few'\n",
    "    else:\n",
    "        nz[-1] = 'normal'\n",
    "    zones_with_discrete_works.append(nz)"
   ]
  },
  {
   "cell_type": "code",
   "execution_count": 22,
   "metadata": {
    "collapsed": false
   },
   "outputs": [],
   "source": [
    "f_out = open('../Data/Zones_with_discrete_works.csv', 'w')\n",
    "csv_out = csv.writer(f_out)\n",
    "csv_out.writerow(headers)\n",
    "csv_out.writerows(zones_with_discrete_works)\n",
    "f_out.close()"
   ]
  },
  {
   "cell_type": "code",
   "execution_count": null,
   "metadata": {
    "collapsed": true
   },
   "outputs": [],
   "source": []
  }
 ],
 "metadata": {
  "kernelspec": {
   "display_name": "Python [Root]",
   "language": "python",
   "name": "Python [Root]"
  },
  "language_info": {
   "codemirror_mode": {
    "name": "ipython",
    "version": 2
   },
   "file_extension": ".py",
   "mimetype": "text/x-python",
   "name": "python",
   "nbconvert_exporter": "python",
   "pygments_lexer": "ipython2",
   "version": "2.7.12"
  }
 },
 "nbformat": 4,
 "nbformat_minor": 0
}
