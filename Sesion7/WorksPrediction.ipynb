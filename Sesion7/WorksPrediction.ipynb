{
 "cells": [
  {
   "cell_type": "code",
   "execution_count": 1,
   "metadata": {
    "collapsed": true
   },
   "outputs": [],
   "source": [
    "import pandas as pd\n",
    "import numpy as np\n",
    "import collections"
   ]
  },
  {
   "cell_type": "markdown",
   "metadata": {},
   "source": [
    "<p style=\"font-family:courier;\">1. Read the files with the accidents of 2006 labeled with zones and the works of 2007, removing those accidents with a zone -1. </p>"
   ]
  },
  {
   "cell_type": "code",
   "execution_count": 2,
   "metadata": {
    "collapsed": false
   },
   "outputs": [],
   "source": [
    "df_accidents = pd.read_csv('../Data/Accidents_zones_dbscan.csv')\n",
    "df_accidents = df_accidents = df_accidents[['longitud', 'latitud', 'zona']]\n",
    "df_accidents = df_accidents[df_accidents['zona'] != -1]\n",
    "\n",
    "df_works = pd.read_csv('../Data/Works2007_filtered.csv')\n",
    "df_works = df_works[['longitud', 'latitud']]"
   ]
  },
  {
   "cell_type": "markdown",
   "metadata": {
    "collapsed": false
   },
   "source": [
    "<p style=\"font-family:courier;\">2. Use a KNN model trained with the accidents of 2006, labeled with zones, to predict the zone of each 2007 work. The K parameter of the KNN model was calculated in Sesion5.</p>"
   ]
  },
  {
   "cell_type": "code",
   "execution_count": 3,
   "metadata": {
    "collapsed": false
   },
   "outputs": [],
   "source": [
    "from sklearn import neighbors\n",
    "\n",
    "K = 2\n",
    "weight = 'distance'\n",
    "\n",
    "clf = neighbors.KNeighborsClassifier(n_neighbors=K, weights=weight)\n",
    "clf.fit(df_accidents[['longitud', 'latitud']], df_accidents['zona'])\n",
    "Z = clf.predict(df_works)\n",
    "Z_count = collections.Counter(Z)"
   ]
  },
  {
   "cell_type": "markdown",
   "metadata": {
    "collapsed": false
   },
   "source": [
    "<p style=\"font-family:courier;\">3. Add the number of works of a zone as a new zone feature and save the results in a csv file</p>"
   ]
  },
  {
   "cell_type": "code",
   "execution_count": 4,
   "metadata": {
    "collapsed": false
   },
   "outputs": [],
   "source": [
    "import csv\n",
    "\n",
    "f = open('../Data/Zones_labels.csv')\n",
    "csv_file = csv.reader(f)\n",
    "headers = csv_file.next()\n",
    "\n",
    "zones_with_number_works = []\n",
    "for row in csv_file:\n",
    "    row.append(Z_count[int(row[0])])\n",
    "    zones_with_number_works.append(row)\n",
    "f.close()\n",
    "\n",
    "headers.append('works')\n",
    "f_out = open('../Data/Zones_with_number_works.csv', 'w')\n",
    "csv_out = csv.writer(f_out)\n",
    "csv_out.writerow(headers)\n",
    "csv_out.writerows(zones_with_number_works)\n",
    "f_out.close()"
   ]
  },
  {
   "cell_type": "markdown",
   "metadata": {
    "collapsed": true
   },
   "source": [
    "<p style=\"font-family:courier;\">4. Split the number of works in each zone in 3 groups: 'few', 'normal' and 'many'. In order to do that, we use a Kmeans algorithm with k=3.</p>"
   ]
  },
  {
   "cell_type": "code",
   "execution_count": 5,
   "metadata": {
    "collapsed": false
   },
   "outputs": [],
   "source": [
    "from sklearn.cluster import KMeans\n",
    "\n",
    "k = 3\n",
    "init = 'k-means++' \n",
    "iterations = 10 \n",
    "max_iter = 300\n",
    "\n",
    "X = [[x[-1]] for x in zones_with_number_works]\n",
    "km = KMeans(k, n_init=iterations, max_iter=max_iter, init=init)\n",
    "labels = km.fit_predict(X)"
   ]
  },
  {
   "cell_type": "markdown",
   "metadata": {},
   "source": [
    "<p style=\"font-family:courier;\">5. Add the label of number of works discretized: 'few', 'normal' and 'many' as a new feature of the zones. Save the results in a csv file</p>"
   ]
  },
  {
   "cell_type": "code",
   "execution_count": 6,
   "metadata": {
    "collapsed": false
   },
   "outputs": [],
   "source": [
    "zones_with_discrete_works = []\n",
    "for i, z in enumerate(zones_with_number_works):\n",
    "    nz = z[:]\n",
    "    if labels[i] == 1:\n",
    "        nz[-1] = 'many'\n",
    "    elif labels[i] == 0:\n",
    "        nz[-1] = 'few'\n",
    "    else:\n",
    "        nz[-1] = 'normal'\n",
    "    zones_with_discrete_works.append(nz)\n",
    "\n",
    "f_out = open('../Data/Zones_with_discrete_works.csv', 'w')\n",
    "csv_out = csv.writer(f_out)\n",
    "csv_out.writerow(headers)\n",
    "csv_out.writerows(zones_with_discrete_works)\n",
    "f_out.close()"
   ]
  },
  {
   "cell_type": "markdown",
   "metadata": {},
   "source": [
    "<p style=\"font-family:courier;\">6. Create and Decision Tree trained with the zones data and the quantity of works in each zone: few, normal or many. We set the maximum depth of the tree because the tree generated was very complex and not generalise well.</p>"
   ]
  },
  {
   "cell_type": "code",
   "execution_count": 7,
   "metadata": {
    "collapsed": false
   },
   "outputs": [],
   "source": [
    "from sklearn import tree\n",
    "\n",
    "features = headers[1:-1]\n",
    "train = [zone[1:-1] for zone in zones_with_discrete_works]\n",
    "target = [zone[-1] for zone in zones_with_discrete_works]\n",
    "\n",
    "clf = tree.DecisionTreeClassifier(max_depth=2)\n",
    "clf = clf.fit(train, target)"
   ]
  },
  {
   "cell_type": "markdown",
   "metadata": {},
   "source": [
    "<p style=\"font-family:courier;\">7. Print the feature relevance in the Decision Tree.</p>"
   ]
  },
  {
   "cell_type": "code",
   "execution_count": 8,
   "metadata": {
    "collapsed": false
   },
   "outputs": [
    {
     "name": "stdout",
     "output_type": "stream",
     "text": [
      "Feature                    Relevance\n",
      "-----------------------  -----------\n",
      "accidents                   0\n",
      "accidents_reach             0\n",
      "outrage_accidents           0\n",
      "road_exit_accidents         0.712991\n",
      "scissor_truck_accidents     0\n",
      "rollover_accidents          0.287009\n",
      "accidents_winter            0\n",
      "accidents_spring            0\n",
      "accidentes_summer           0\n",
      "accidentes_autumn           0\n",
      "traffic_flow                0\n",
      "traffic_slow                0\n",
      "traffic_very_slow           0\n",
      "trafico_stopped             0\n",
      "morning(00:00-11:59)        0\n",
      "evening(12:00-23:59)        0\n",
      "group                       0\n"
     ]
    }
   ],
   "source": [
    "from tabulate import tabulate\n",
    "\n",
    "table = zip(features, clf.feature_importances_)\n",
    "print tabulate(table, headers = ['Feature', 'Relevance'])"
   ]
  },
  {
   "cell_type": "markdown",
   "metadata": {},
   "source": [
    "<p style=\"font-family:courier;\">8. Write a pdf file with the Decision Tree figure.</p>"
   ]
  },
  {
   "cell_type": "code",
   "execution_count": 9,
   "metadata": {
    "collapsed": false
   },
   "outputs": [
    {
     "data": {
      "text/plain": [
       "True"
      ]
     },
     "execution_count": 9,
     "metadata": {},
     "output_type": "execute_result"
    }
   ],
   "source": [
    "from sklearn.externals.six import StringIO\n",
    "import pydotplus\n",
    "\n",
    "dot_data = StringIO()\n",
    "tree.export_graphviz(clf, \n",
    "                     out_file = dot_data,\n",
    "                     feature_names = features,\n",
    "                     class_names = ['few', 'many', 'normal'],\n",
    "                     filled = True,\n",
    "                     rounded = True,\n",
    "                     special_characters = True)\n",
    "\n",
    "graph = pydotplus.graph_from_dot_data(dot_data.getvalue())\n",
    "graph.write_pdf(path = 'zones.pdf')"
   ]
  }
 ],
 "metadata": {
  "kernelspec": {
   "display_name": "Python [Root]",
   "language": "python",
   "name": "Python [Root]"
  },
  "language_info": {
   "codemirror_mode": {
    "name": "ipython",
    "version": 2
   },
   "file_extension": ".py",
   "mimetype": "text/x-python",
   "name": "python",
   "nbconvert_exporter": "python",
   "pygments_lexer": "ipython2",
   "version": "2.7.12"
  }
 },
 "nbformat": 4,
 "nbformat_minor": 0
}
