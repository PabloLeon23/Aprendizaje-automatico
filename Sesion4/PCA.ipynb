{
 "cells": [
  {
   "cell_type": "code",
   "execution_count": 150,
   "metadata": {
    "collapsed": true
   },
   "outputs": [],
   "source": [
    "import numpy as np\n",
    "import csv"
   ]
  },
  {
   "cell_type": "code",
   "execution_count": 151,
   "metadata": {
    "collapsed": true
   },
   "outputs": [],
   "source": [
    "causa_i = 0\n",
    "poblacion_i = 1\n",
    "fecha_i = 2\n",
    "hora_i = 3\n",
    "nivel_i = 4\n",
    "carretera_i = 5\n",
    "pk_inicial_i = 6\n",
    "pk_final_i = 7\n",
    "zona_i = 11\n",
    "\n",
    "zonas = dict()"
   ]
  },
  {
   "cell_type": "code",
   "execution_count": 152,
   "metadata": {
    "collapsed": false
   },
   "outputs": [],
   "source": [
    "#zonas es un diccionario donde la clave es la zona y el contenido una \n",
    "#lista de listas de accidentes con sus caracteristicas\n",
    "f = open('Accidents_zones.csv', 'r')\n",
    "accidentes = csv.reader(f)\n",
    "accidentes.next()\n",
    "\n",
    "for accidente in accidentes:\n",
    "    zona = int(accidente[zona_i])\n",
    "    if zona != -1:\n",
    "        if not zona in zonas:\n",
    "            zonas[zona] = [accidente]\n",
    "        else:\n",
    "            zonas[zona].append(accidente)"
   ]
  },
  {
   "cell_type": "code",
   "execution_count": 153,
   "metadata": {
    "collapsed": false
   },
   "outputs": [],
   "source": [
    "n_accidentes = []\n",
    "n_accidentes_por_alcance = [0] * len(zonas)\n",
    "n_accidentes_por_atropello = [0] * len(zonas)\n",
    "n_accidentes_por_salida = [0] * len(zonas)\n",
    "n_accidentes_por_tijera_camion = [0] * len(zonas)\n",
    "n_accidentes_por_vuelco = [0] * len(zonas)\n",
    "#Añadir más listas con más caracteristicas\n",
    "\n",
    "for zona in zonas:\n",
    "    n_accidentes.append(len(zonas[zona]))\n",
    "    for accidente in zonas[zona]:\n",
    "        if accidente[causa] == 'Alcance':\n",
    "            n_accidentes_por_alcance[zona] += 1\n",
    "        if accidente[causa] == 'Atropello':\n",
    "            n_accidentes_por_atropello[zona] += 1\n",
    "        if accidente[causa] == 'Salida':\n",
    "            n_accidentes_por_salida[zona] += 1\n",
    "        if accidente[causa] == 'Vuelco':\n",
    "            n_accidentes_por_vuelco[zona] += 1\n",
    "        if accidente[causa] == 'Tijera camin':\n",
    "            n_accidentes_por_tijera_camion[zona] += 1\n",
    "        #Continuar poniendo condiciones para ir contando accidentes\n",
    "        #según las características"
   ]
  },
  {
   "cell_type": "code",
   "execution_count": 154,
   "metadata": {
    "collapsed": false
   },
   "outputs": [],
   "source": [
    "#Añadir las listas de nuevas características al final del zip y a la cabecera\n",
    "rows = zip(zonas.keys(), n_accidentes, n_accidentes_por_alcance, n_accidentes_por_atropello,\n",
    "          n_accidentes_por_salida, n_accidentes_por_tijera_camion, \n",
    "           n_accidentes_por_vuelco)\n",
    "\n",
    "headers = ['zona', 'accidentes', 'accidentes_alcance', 'accidentes_atropello',\n",
    "          'accidentes_salida', 'accidentes_tijera_camion', 'accidentes_vuelco']"
   ]
  },
  {
   "cell_type": "code",
   "execution_count": 155,
   "metadata": {
    "collapsed": true
   },
   "outputs": [],
   "source": [
    "with open('Zonas.csv', 'w') as csvfile:\n",
    "    writer = csv.writer(csvfile, delimiter=',')\n",
    "    writer.writerow(headers)\n",
    "    writer.writerows(rows)"
   ]
  }
 ],
 "metadata": {
  "kernelspec": {
   "display_name": "Python [Root]",
   "language": "python",
   "name": "Python [Root]"
  },
  "language_info": {
   "codemirror_mode": {
    "name": "ipython",
    "version": 2
   },
   "file_extension": ".py",
   "mimetype": "text/x-python",
   "name": "python",
   "nbconvert_exporter": "python",
   "pygments_lexer": "ipython2",
   "version": "2.7.12"
  }
 },
 "nbformat": 4,
 "nbformat_minor": 0
}
