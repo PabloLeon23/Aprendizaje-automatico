{
 "cells": [
  {
   "cell_type": "code",
   "execution_count": 1,
   "metadata": {
    "collapsed": true
   },
   "outputs": [],
   "source": [
    "import numpy as np\n",
    "import csv"
   ]
  },
  {
   "cell_type": "code",
   "execution_count": 2,
   "metadata": {
    "collapsed": true
   },
   "outputs": [],
   "source": [
    "causa_i = 0\n",
    "poblacion_i = 1\n",
    "fecha_i = 2\n",
    "hora_i = 3\n",
    "nivel_i = 4\n",
    "carretera_i = 5\n",
    "pk_inicial_i = 6\n",
    "pk_final_i = 7\n",
    "zona_i = 11\n",
    "\n",
    "zonas = dict()"
   ]
  },
  {
   "cell_type": "code",
   "execution_count": 3,
   "metadata": {
    "collapsed": false
   },
   "outputs": [],
   "source": [
    "#zonas es un diccionario donde la clave es la zona y el contenido una \n",
    "#lista de listas de accidentes con sus caracteristicas\n",
    "f = open('Accidents_zones.csv', 'r')\n",
    "accidentes = csv.reader(f)\n",
    "accidentes.next()\n",
    "\n",
    "for accidente in accidentes:\n",
    "    zona = int(accidente[zona_i])\n",
    "    if zona != -1:\n",
    "        if not zona in zonas:\n",
    "            zonas[zona] = [accidente]\n",
    "        else:\n",
    "            zonas[zona].append(accidente)"
   ]
  },
  {
   "cell_type": "code",
   "execution_count": 13,
   "metadata": {
    "collapsed": false
   },
   "outputs": [],
   "source": [
    "#distincion por tipo de accidente\n",
    "n_accidentes = []\n",
    "n_accidentes_por_alcance = [0] * len(zonas)\n",
    "n_accidentes_por_atropello = [0] * len(zonas)\n",
    "n_accidentes_por_salida = [0] * len(zonas)\n",
    "n_accidentes_por_tijera_camion = [0] * len(zonas)\n",
    "n_accidentes_por_vuelco = [0] * len(zonas)\n",
    "#Añadir más listas con más caracteristicas\n",
    "\n",
    "#distincion por meses\n",
    "dici_enero_feb = [0] * len(zonas)\n",
    "marzo_abril_may = [0] * len(zonas)\n",
    "jun_jul_agos = [0] * len(zonas)\n",
    "sep_oct_nov = [0] * len(zonas)\n",
    "\n",
    "#distincion por hora del dia\n",
    "manana=[0] * len(zonas)\n",
    "tarde=[0] * len(zonas)\n",
    "\n",
    "\n",
    "#distincion por cantidad de trafico\n",
    "trafico_fluido=[0] * len(zonas)\n",
    "trafico_lento=[0] * len(zonas)\n",
    "trafico_muy_lento=[0] * len(zonas)\n",
    "trafico_parado=[0] * len(zonas)\n",
    "\n",
    "\n",
    "\n",
    "for zona in zonas:\n",
    "    n_accidentes.append(len(zonas[zona]))\n",
    "    for accidente in zonas[zona]:\n",
    "        if accidente[causa_i] == 'Alcance':\n",
    "            n_accidentes_por_alcance[zona] += 1\n",
    "        if accidente[causa_i] == 'Atropello':\n",
    "            n_accidentes_por_atropello[zona] += 1\n",
    "        if accidente[causa_i] == 'Salida':\n",
    "            n_accidentes_por_salida[zona] += 1\n",
    "        if accidente[causa_i] == 'Vuelco':\n",
    "            n_accidentes_por_vuelco[zona] += 1\n",
    "        if accidente[causa_i] == 'Tijera camin':\n",
    "            n_accidentes_por_tijera_camion[zona] += 1\n",
    "        if '01' <= accidente[fecha_i][5:7] <= '02' or accidente[fecha_i][5:7] == '12':\n",
    "            dici_enero_feb[zona] +=1 \n",
    "        if '03' <= accidente[fecha_i][5:7] <= '05':\n",
    "            marzo_abril_may[zona] +=1 \n",
    "        if '06'<= accidente[fecha_i][5:7] <= '08':\n",
    "            jun_jul_agos[zona] +=1 \n",
    "        if '09'<= accidente[fecha_i][5:7] <= '11':\n",
    "            sep_oct_nov[zona] +=1 \n",
    "        if accidente[nivel_i] == 'Blanco':\n",
    "            trafico_fluido[zona] +=1\n",
    "        if accidente[nivel_i] == 'Amarillo':\n",
    "            trafico_lento[zona] +=1\n",
    "        if accidente[nivel_i] == 'Rojo':\n",
    "            trafico_muy_lento[zona] +=1\n",
    "        if accidente[nivel_i] == 'Negro':\n",
    "            trafico_parado[zona] +=1\n",
    "        if '00' <= accidente[hora_i][0:2] <='12':\n",
    "            manana[zona] +=1\n",
    "        if '13' <= accidente[hora_i][0:2] <='23':\n",
    "            tarde[zona] +=1\n",
    "    \n",
    "        #Continuar poniendo condiciones para ir contando accidentes\n",
    "        #según las características"
   ]
  },
  {
   "cell_type": "code",
   "execution_count": 14,
   "metadata": {
    "collapsed": false
   },
   "outputs": [],
   "source": [
    "#Añadir las listas de nuevas características al final del zip y a la cabecera\n",
    "rows = zip(zonas.keys(), n_accidentes, n_accidentes_por_alcance, n_accidentes_por_atropello,\n",
    "          n_accidentes_por_salida, n_accidentes_por_tijera_camion, \n",
    "           n_accidentes_por_vuelco, dici_enero_feb, marzo_abril_may, \n",
    "           jun_jul_agos, sep_oct_nov, trafico_fluido, trafico_lento, \n",
    "           trafico_muy_lento, trafico_parado, manana, tarde)\n",
    "\n",
    "headers = ['zona', 'accidentes', 'accidentes_alcance', 'accidentes_atropello',\n",
    "          'accidentes_salida', 'accidentes_tijera_camion', 'accidentes_vuelco', \n",
    "            'accidentes_invierno', 'accidentes_primavera', 'accidentes_verano', \n",
    "           'accidentes_otoño', 'trafico_fluido', 'trafico_lento', 'trafico_muy_lento', \n",
    "          'trafico_parado', 'mañana(00:00-12:00)', 'tarde(13:00-00:00)']"
   ]
  },
  {
   "cell_type": "code",
   "execution_count": 15,
   "metadata": {
    "collapsed": true
   },
   "outputs": [],
   "source": [
    "with open('Zonas.csv', 'w') as csvfile:\n",
    "    writer = csv.writer(csvfile, delimiter=',')\n",
    "    writer.writerow(headers)\n",
    "    writer.writerows(rows)"
   ]
  },
  {
   "cell_type": "code",
   "execution_count": null,
   "metadata": {
    "collapsed": true
   },
   "outputs": [],
   "source": []
  },
  {
   "cell_type": "code",
   "execution_count": null,
   "metadata": {
    "collapsed": true
   },
   "outputs": [],
   "source": []
  }
 ],
 "metadata": {
  "anaconda-cloud": {},
  "kernelspec": {
   "display_name": "Python [default]",
   "language": "python",
   "name": "python2"
  },
  "language_info": {
   "codemirror_mode": {
    "name": "ipython",
    "version": 2
   },
   "file_extension": ".py",
   "mimetype": "text/x-python",
   "name": "python",
   "nbconvert_exporter": "python",
   "pygments_lexer": "ipython2",
   "version": "2.7.12"
  }
 },
 "nbformat": 4,
 "nbformat_minor": 0
}
