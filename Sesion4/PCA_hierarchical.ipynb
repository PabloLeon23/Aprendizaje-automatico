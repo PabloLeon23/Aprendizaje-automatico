{
 "cells": [
  {
   "cell_type": "code",
   "execution_count": 1,
   "metadata": {
    "collapsed": false
   },
   "outputs": [],
   "source": [
    "# -*- coding: utf-8 -*-\n",
    "\n",
    "%matplotlib inline\n",
    "\n",
    "from __future__ import division\n",
    "from sklearn.decomposition import PCA\n",
    "from sklearn.preprocessing import MinMaxScaler\n",
    "import matplotlib.pyplot as plt\n",
    "import csv\n",
    "import numpy as np"
   ]
  },
  {
   "cell_type": "markdown",
   "metadata": {},
   "source": [
    "<p style=\"font-family:courier;\">1. Open the file with de zones and its features. We can select  Zonas_kmeans.csv or Zonas_dbscan.csv with the zones of differents clustering algorithms. We choose the results of DBScan due to the  results its graphic representation.</p>"
   ]
  },
  {
   "cell_type": "code",
   "execution_count": 2,
   "metadata": {
    "collapsed": true
   },
   "outputs": [],
   "source": [
    "file_name = '../Data/Zones_dbscan.csv'\n",
    "\n",
    "f = open(file_name, 'r')\n",
    "csvfile = csv.reader(f)\n",
    "caracteristicas = csvfile.next()[1:]\n",
    "zonas = []\n",
    "\n",
    "for zona in csvfile:\n",
    "    zonas.append(map(int, zona))"
   ]
  },
  {
   "cell_type": "markdown",
   "metadata": {},
   "source": [
    "<p style=\"font-family:courier;\">2. Normalize the dataset</p>"
   ]
  },
  {
   "cell_type": "code",
   "execution_count": 3,
   "metadata": {
    "collapsed": false
   },
   "outputs": [],
   "source": [
    "min_max_scaler = MinMaxScaler()\n",
    "zonas_norm = min_max_scaler.fit_transform([zona[1:] for zona in zonas])"
   ]
  },
  {
   "cell_type": "markdown",
   "metadata": {},
   "source": [
    "<p style=\"font-family:courier;\">3. Reduce the dimensionality of the data</p>"
   ]
  },
  {
   "cell_type": "code",
   "execution_count": 4,
   "metadata": {
    "collapsed": false
   },
   "outputs": [
    {
     "name": "stdout",
     "output_type": "stream",
     "text": [
      "Variance explained by each varaible: [ 0.73588261  0.15884344]\n",
      "Total variance explained: 0.894726051908\n"
     ]
    }
   ],
   "source": [
    "pca_estimator = PCA(n_components = 2)\n",
    "X_pca = pca_estimator.fit_transform(zonas_norm)\n",
    "\n",
    "print 'Variance explained by each varaible: ' + str(pca_estimator.explained_variance_ratio_)\n",
    "print 'Total variance explained: ' + str(sum(pca_estimator.explained_variance_ratio_))"
   ]
  },
  {
   "cell_type": "markdown",
   "metadata": {},
   "source": [
    "<p style=\"font-family:courier;\">4. Plot the PCA</p>\n",
    "<p style=\"font-family:courier;\">4.1. Plot the raw results of the PCA</p>"
   ]
  },
  {
   "cell_type": "code",
   "execution_count": 5,
   "metadata": {
    "collapsed": false
   },
   "outputs": [
    {
     "data": {
      "image/png": "[encoded data removed]",
      "text/plain": [
       "<matplotlib.figure.Figure at 0x7f4c8b206110>"
      ]
     },
     "metadata": {},
     "output_type": "display_data"
    }
   ],
   "source": [
    "plt.scatter([x[0] for x in X_pca], [x[1] for x in X_pca])\n",
    "plt.show()"
   ]
  },
  {
   "cell_type": "markdown",
   "metadata": {},
   "source": [
    "<p style=\"font-family:courier;\">4.2. Plot of the results centered in the core of points</p>"
   ]
  },
  {
   "cell_type": "code",
   "execution_count": 6,
   "metadata": {
    "collapsed": false
   },
   "outputs": [
    {
     "data": {
      "image/png": "[encoded data removed]",
      "text/plain": [
       "<matplotlib.figure.Figure at 0x7f4c882f7850>"
      ]
     },
     "metadata": {},
     "output_type": "display_data"
    }
   ],
   "source": [
    "fig, ax = plt.subplots()\n",
    "ax.grid(True)\n",
    "plt.xlim(-1, 3.5)\n",
    "plt.ylim(-1, 1)\n",
    "\n",
    "N = len(X_pca)\n",
    "numbers = np.arange(len(X_pca))\n",
    "\n",
    "for i in range(N):\n",
    "    plt.text(X_pca[i][0], X_pca[i][1], numbers[i])\n",
    "\n",
    "plt.show()"
   ]
  },
  {
   "cell_type": "markdown",
   "metadata": {},
   "source": [
    "<p style=\"font-family:courier;\">5. Hierarchical clustering of the zones.</p>"
   ]
  },
  {
   "cell_type": "code",
   "execution_count": 7,
   "metadata": {
    "collapsed": true
   },
   "outputs": [],
   "source": [
    "import sklearn.neighbors\n",
    "from scipy import cluster \n",
    "\n",
    "zona_peligrosa = zonas[11]\n",
    "indice_out = 11\n",
    "zonas = zonas[:11] + zonas[12:]\n",
    "X_pca = np.concatenate((X_pca[:11], X_pca[12:]))"
   ]
  },
  {
   "cell_type": "markdown",
   "metadata": {},
   "source": [
    "<p style=\"font-family:courier;\">5.1. Calculate the distance matrix with Euclidean distance</p>"
   ]
  },
  {
   "cell_type": "code",
   "execution_count": 8,
   "metadata": {
    "collapsed": false
   },
   "outputs": [],
   "source": [
    "dist = sklearn.neighbors.DistanceMetric.get_metric('euclidean')\n",
    "matsim = dist.pairwise(X_pca)\n",
    "\n",
    "clusters = cluster.hierarchy.linkage(matsim, method = 'complete')"
   ]
  },
  {
   "cell_type": "markdown",
   "metadata": {},
   "source": [
    "<p style=\"font-family:courier;\">6. Plot the dendogram with a threshold of 1.3 for visualize the clusters</p>"
   ]
  },
  {
   "cell_type": "code",
   "execution_count": 9,
   "metadata": {
    "collapsed": false
   },
   "outputs": [
    {
     "data": {
      "image/png": "[encoded data removed]",
      "text/plain": [
       "<matplotlib.figure.Figure at 0x7f4c8804bc90>"
      ]
     },
     "metadata": {},
     "output_type": "display_data"
    }
   ],
   "source": [
    "cut = 9\n",
    "cluster.hierarchy.dendrogram(clusters, color_threshold = cut)\n",
    "plt.show()"
   ]
  },
  {
   "cell_type": "markdown",
   "metadata": {},
   "source": [
    "<p style=\"font-family:courier;\">7. Cut the dendogram in the distance of 1.3</p>"
   ]
  },
  {
   "cell_type": "code",
   "execution_count": 10,
   "metadata": {
    "collapsed": false
   },
   "outputs": [
    {
     "name": "stdout",
     "output_type": "stream",
     "text": [
      "Number of clusters 3\n"
     ]
    }
   ],
   "source": [
    "labels = cluster.hierarchy.fcluster(clusters, cut, criterion='distance')\n",
    "unique_labels = set(labels)\n",
    "print 'Number of clusters %d' % len(unique_labels)"
   ]
  },
  {
   "cell_type": "markdown",
   "metadata": {},
   "source": [
    "<p style=\"font-family:courier;\">8. Plot the results of the hierarchical clustering over the PCA points.</p>"
   ]
  },
  {
   "cell_type": "code",
   "execution_count": 11,
   "metadata": {
    "collapsed": false
   },
   "outputs": [
    {
     "data": {
      "image/png": "[encoded data removed]",
      "text/plain": [
       "<matplotlib.figure.Figure at 0x7f4c882f79d0>"
      ]
     },
     "metadata": {},
     "output_type": "display_data"
    }
   ],
   "source": [
    "colors = np.array(list('bgrcmykbgrcmykbgrcmykbgrcmyk'))\n",
    "colors = np.hstack([colors] * 20)\n",
    "\n",
    "fig, ax = plt.subplots()\n",
    "\n",
    "plt.xlim(-1, 3.5)\n",
    "plt.ylim(-1, 1)\n",
    "ax.grid(True)\n",
    "\n",
    "for i in range(len(zonas)):\n",
    "    plt.text(X_pca[i][0], X_pca[i][1], i if i < indice_out else i + 1, color = colors[labels[i]])\n",
    "\n",
    "fig.tight_layout()\n",
    "plt.show()"
   ]
  },
  {
   "cell_type": "markdown",
   "metadata": {},
   "source": [
    "<p style=\"font-family:courier;\">9. Characterize the obtain groups with maximum, minimum and average of the zones features of each group.</p>"
   ]
  },
  {
   "cell_type": "code",
   "execution_count": 12,
   "metadata": {
    "collapsed": false
   },
   "outputs": [],
   "source": [
    "zone_groups = dict()\n",
    "\n",
    "for i, zona in enumerate(zonas):\n",
    "    if labels[i] in zone_groups:\n",
    "        zone_groups[labels[i]].append(zona)\n",
    "    else:\n",
    "        zone_groups[labels[i]] = [zona]\n",
    "\n",
    "features = []\n",
    "\n",
    "for key in zone_groups:\n",
    "    zone_feature = []\n",
    "    for i in range(1, len(zone_groups[key][0])):\n",
    "        feature = [zone[i] for zone in zone_groups[key]]\n",
    "        maxi = max(feature)\n",
    "        mini = min(feature)\n",
    "        aver = sum(feature) / len(feature)\n",
    "        zone_feature.append(maxi)\n",
    "        zone_feature.append(mini)\n",
    "        zone_feature.append(round(aver,2))\n",
    "    features.append(zone_feature)\n",
    "features.sort()"
   ]
  },
  {
   "cell_type": "markdown",
   "metadata": {},
   "source": [
    "<p style=\"font-family:courier;\">10. Save the results in a csv file</p>\n",
    "<p style=\"font-family:courier;\">10.1. We define five different groups of zones</p>"
   ]
  },
  {
   "cell_type": "code",
   "execution_count": 13,
   "metadata": {
    "collapsed": false
   },
   "outputs": [],
   "source": [
    "file_name_out = '../Data/Groups_zones.csv'\n",
    "\n",
    "zonas_labels = ['Little dangerous zone',\n",
    "                'Moderately dangerous zone',  \n",
    "                'Dangerous zone']\n",
    "\n",
    "etiquetas = [' (max)', ' (min)', ' (average)']\n",
    "\n",
    "with open(file_name_out, 'w') as csvfile:\n",
    "    writer = csv.writer(csvfile, delimiter=',')\n",
    "    \n",
    "    headers = ['Zone']\n",
    "    for c in caracteristicas:\n",
    "        for e in etiquetas:\n",
    "            headers.append(c + e)\n",
    "    writer.writerow(headers)\n",
    "    \n",
    "    for i, zone_feature in enumerate(features):\n",
    "        zone_feature.insert(0, zonas_labels[i])\n",
    "    writer.writerows(features)"
   ]
  },
  {
   "cell_type": "code",
   "execution_count": 14,
   "metadata": {
    "collapsed": false
   },
   "outputs": [],
   "source": [
    "file_name_out_2 = '../Data/Zones_labels.csv'\n",
    "\n",
    "headers = ['zone', 'accidents', 'accidents_reach', 'outrage_accidents',\n",
    "          'road_exit_accidents', 'scissor_truck_accidents', 'rollover_accidents', \n",
    "            'accidents_winter', 'accidents_spring', 'accidentes_summer', \n",
    "           'accidentes_autumn', 'traffic_flow', 'traffic_slow', 'traffic_very_slow', \n",
    "          'trafico_stopped','morning(00:00-11:59)', 'evening(12:00-23:59)', 'group']\n",
    "\n",
    "for i in range(len(zonas)):\n",
    "    zonas[i].append(labels[i])\n",
    "\n",
    "with open(file_name_out_2, 'w') as csvfile:\n",
    "    writer = csv.writer(csvfile, delimiter = ',')\n",
    "    writer.writerow(headers)\n",
    "    writer.writerows(zonas)"
   ]
  },
  {
   "cell_type": "code",
   "execution_count": null,
   "metadata": {
    "collapsed": true
   },
   "outputs": [],
   "source": []
  }
 ],
 "metadata": {
  "anaconda-cloud": {},
  "kernelspec": {
   "display_name": "Python [Root]",
   "language": "python",
   "name": "Python [Root]"
  },
  "language_info": {
   "codemirror_mode": {
    "name": "ipython",
    "version": 2
   },
   "file_extension": ".py",
   "mimetype": "text/x-python",
   "name": "python",
   "nbconvert_exporter": "python",
   "pygments_lexer": "ipython2",
   "version": "2.7.12"
  }
 },
 "nbformat": 4,
 "nbformat_minor": 0
}
