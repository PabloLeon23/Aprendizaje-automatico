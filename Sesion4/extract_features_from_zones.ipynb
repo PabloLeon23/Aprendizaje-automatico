{
 "cells": [
  {
   "cell_type": "code",
   "execution_count": 8,
   "metadata": {
    "collapsed": true
   },
   "outputs": [],
   "source": [
    "import csv"
   ]
  },
  {
   "cell_type": "code",
   "execution_count": 9,
   "metadata": {
    "collapsed": true
   },
   "outputs": [],
   "source": [
    "causa_i = 0\n",
    "poblacion_i = 1\n",
    "fecha_i = 2\n",
    "hora_i = 3\n",
    "nivel_i = 4\n",
    "carretera_i = 5\n",
    "pk_inicial_i = 6\n",
    "pk_final_i = 7\n",
    "zona_i = 11\n",
    "\n",
    "zonas = dict()"
   ]
  },
  {
   "cell_type": "code",
   "execution_count": 10,
   "metadata": {
    "collapsed": true
   },
   "outputs": [],
   "source": [
    "file_name_in = '../Data/Accidents_zones_dbscan.csv'"
   ]
  },
  {
   "cell_type": "markdown",
   "metadata": {},
   "source": [
    "<p style=\"font-family:courier;\">1. We read the file Accidents_with_zones_dbscan that we have saved in file_name_in and created \"Zonas\". Zonas is a dictionary where the key is the zone and the content is a list of lists of accidents with their characteristics </p>"
   ]
  },
  {
   "cell_type": "code",
   "execution_count": 11,
   "metadata": {
    "collapsed": false
   },
   "outputs": [],
   "source": [
    "f = open(file_name_in, 'r')\n",
    "accidentes = csv.reader(f)\n",
    "accidentes.next()\n",
    "\n",
    "for accidente in accidentes:\n",
    "    zona = int(accidente[zona_i])\n",
    "    if zona != -1:\n",
    "        if not zona in zonas:\n",
    "            zonas[zona] = [accidente]\n",
    "        else:\n",
    "            zonas[zona].append(accidente)"
   ]
  },
  {
   "cell_type": "markdown",
   "metadata": {},
   "source": [
    "<p style=\"font-family:courier;\">2. We identify the number of accidents based on a series of defined characteristics. The characteristics are tipe of accident, season of the year, hour and amount of traffic</p>"
   ]
  },
  {
   "cell_type": "code",
   "execution_count": 12,
   "metadata": {
    "collapsed": false
   },
   "outputs": [],
   "source": [
    "n_accidentes = []\n",
    "\n",
    "n_accidentes_por_alcance = [0] * len(zonas)\n",
    "n_accidentes_por_atropello = [0] * len(zonas)\n",
    "n_accidentes_por_salida = [0] * len(zonas)\n",
    "n_accidentes_por_tijera_camion = [0] * len(zonas)\n",
    "n_accidentes_por_vuelco = [0] * len(zonas)\n",
    "\n",
    "\n",
    "dici_enero_feb = [0] * len(zonas)\n",
    "marzo_abril_may = [0] * len(zonas)\n",
    "jun_jul_agos = [0] * len(zonas)\n",
    "sep_oct_nov = [0] * len(zonas)\n",
    "\n",
    "\n",
    "manana=[0] * len(zonas)\n",
    "tarde=[0] * len(zonas)\n",
    "\n",
    "\n",
    "\n",
    "trafico_fluido=[0] * len(zonas)\n",
    "trafico_lento=[0] * len(zonas)\n",
    "trafico_muy_lento=[0] * len(zonas)\n",
    "trafico_parado=[0] * len(zonas)\n",
    "\n",
    "for zona in zonas:\n",
    "    n_accidentes.append(len(zonas[zona]))\n",
    "    for accidente in zonas[zona]:\n",
    "        if accidente[causa_i] == 'Alcance':\n",
    "            n_accidentes_por_alcance[zona] += 1\n",
    "        if accidente[causa_i] == 'Atropello':\n",
    "            n_accidentes_por_atropello[zona] += 1\n",
    "        if accidente[causa_i] == 'Salida':\n",
    "            n_accidentes_por_salida[zona] += 1\n",
    "        if accidente[causa_i] == 'Vuelco':\n",
    "            n_accidentes_por_vuelco[zona] += 1\n",
    "        if accidente[causa_i] == 'Tijera camin':\n",
    "            n_accidentes_por_tijera_camion[zona] += 1\n",
    "        if '01' <= accidente[fecha_i][5:7] <= '02' or accidente[fecha_i][5:7] == '12':\n",
    "            dici_enero_feb[zona] +=1 \n",
    "        if '03' <= accidente[fecha_i][5:7] <= '05':\n",
    "            marzo_abril_may[zona] +=1 \n",
    "        if '06'<= accidente[fecha_i][5:7] <= '08':\n",
    "            jun_jul_agos[zona] +=1 \n",
    "        if '09'<= accidente[fecha_i][5:7] <= '11':\n",
    "            sep_oct_nov[zona] +=1 \n",
    "        if accidente[nivel_i] == 'Blanco':\n",
    "            trafico_fluido[zona] +=1\n",
    "        if accidente[nivel_i] == 'Amarillo':\n",
    "            trafico_lento[zona] +=1\n",
    "        if accidente[nivel_i] == 'Rojo':\n",
    "            trafico_muy_lento[zona] +=1\n",
    "        if accidente[nivel_i] == 'Negro':\n",
    "            trafico_parado[zona] +=1\n",
    "        if '00' <= accidente[hora_i][0:2] <'12':\n",
    "            manana[zona] +=1\n",
    "        if '12' <= accidente[hora_i][0:2] <='23':\n",
    "            tarde[zona] +=1"
   ]
  },
  {
   "cell_type": "markdown",
   "metadata": {},
   "source": [
    "<p style=\"font-family:courier;\">3. We add the list of new features to the zip and the header</p>"
   ]
  },
  {
   "cell_type": "code",
   "execution_count": 13,
   "metadata": {
    "collapsed": false
   },
   "outputs": [],
   "source": [
    "rows = zip(zonas.keys(), n_accidentes, n_accidentes_por_alcance, n_accidentes_por_atropello,\n",
    "          n_accidentes_por_salida, n_accidentes_por_tijera_camion, \n",
    "           n_accidentes_por_vuelco, dici_enero_feb, marzo_abril_may, \n",
    "           jun_jul_agos, sep_oct_nov, trafico_fluido, trafico_lento, \n",
    "           trafico_muy_lento, trafico_parado, manana, tarde)\n",
    "\n",
    "headers = ['zone', 'accidents', 'accidents_reach', 'outrage_accidents',\n",
    "          'road_exit_accidents', 'scissor_truck_accidents', 'rollover_accidents', \n",
    "            'accidents_winter', 'accidents_spring', 'accidentes_summer', \n",
    "           'accidentes_autumn', 'traffic_flow', 'traffic_slow', 'traffic_very_slow', \n",
    "          'trafico_stopped','morning(00:00-11:59)', 'evening(12:00-23:59)']"
   ]
  },
  {
   "cell_type": "markdown",
   "metadata": {},
   "source": [
    "<p style=\"font-family:courier;\">4. We write de zones features in a new csv file called Zonas_dbscan</p>"
   ]
  },
  {
   "cell_type": "code",
   "execution_count": 14,
   "metadata": {
    "collapsed": false
   },
   "outputs": [],
   "source": [
    "file_name_out = '../Data/Zones_dbscan.csv'\n",
    "\n",
    "with open(file_name_out, 'w') as csvfile:\n",
    "    writer = csv.writer(csvfile, delimiter=',')\n",
    "    writer.writerow(headers)\n",
    "    writer.writerows(rows)"
   ]
  },
  {
   "cell_type": "code",
   "execution_count": null,
   "metadata": {
    "collapsed": true
   },
   "outputs": [],
   "source": []
  }
 ],
 "metadata": {
  "anaconda-cloud": {},
  "kernelspec": {
   "display_name": "Python [Root]",
   "language": "python",
   "name": "Python [Root]"
  },
  "language_info": {
   "codemirror_mode": {
    "name": "ipython",
    "version": 2
   },
   "file_extension": ".py",
   "mimetype": "text/x-python",
   "name": "python",
   "nbconvert_exporter": "python",
   "pygments_lexer": "ipython2",
   "version": "2.7.12"
  }
 },
 "nbformat": 4,
 "nbformat_minor": 0
}
