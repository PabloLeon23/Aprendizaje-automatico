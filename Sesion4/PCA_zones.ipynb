{
 "cells": [
  {
   "cell_type": "code",
   "execution_count": 54,
   "metadata": {
    "collapsed": true
   },
   "outputs": [],
   "source": [
    "# -*- coding: utf-8 -*-\n",
    "\n",
    "from __future__ import division\n",
    "from sklearn.decomposition import PCA\n",
    "from sklearn.preprocessing import MinMaxScaler\n",
    "import matplotlib.pyplot as plt\n",
    "import csv\n",
    "import numpy as np"
   ]
  },
  {
   "cell_type": "code",
   "execution_count": 55,
   "metadata": {
    "collapsed": true
   },
   "outputs": [],
   "source": [
    "# Zonas_kmeans.csv, Zonas_dbscan.csv\n",
    "file_name = '../Data/Zonas_dbscan.csv'"
   ]
  },
  {
   "cell_type": "code",
   "execution_count": 56,
   "metadata": {
    "collapsed": false
   },
   "outputs": [],
   "source": [
    "f = open(file_name, 'r')\n",
    "csvfile = csv.reader(f)\n",
    "caracteristicas = csvfile.next()[1:] #skip the headers\n",
    "zonas = []\n",
    "\n",
    "for zona in csvfile:\n",
    "    zonas.append(map(int, zona))"
   ]
  },
  {
   "cell_type": "code",
   "execution_count": 57,
   "metadata": {
    "collapsed": false
   },
   "outputs": [
    {
     "name": "stdout",
     "output_type": "stream",
     "text": [
      "Varianza explicada por cada varaible: [ 0.80022241  0.1217984 ]\n",
      "Varianza total explicada: 0.922020811566\n"
     ]
    }
   ],
   "source": [
    "min_max_scaler = MinMaxScaler()\n",
    "zonas_norm = min_max_scaler.fit_transform([zona[1:] for zona in zonas])\n",
    "\n",
    "pca_estimator = PCA(n_components = 2)\n",
    "X_pca = pca_estimator.fit_transform(zonas_norm)\n",
    "\n",
    "print 'Varianza explicada por cada varaible: ' + str(pca_estimator.explained_variance_ratio_)\n",
    "print 'Varianza total explicada: ' + str(sum(pca_estimator.explained_variance_ratio_))"
   ]
  },
  {
   "cell_type": "code",
   "execution_count": 58,
   "metadata": {
    "collapsed": false
   },
   "outputs": [],
   "source": [
    "plt.scatter([x[0] for x in X_pca], [x[1] for x in X_pca])\n",
    "plt.show()"
   ]
  },
  {
   "cell_type": "code",
   "execution_count": 59,
   "metadata": {
    "collapsed": false
   },
   "outputs": [],
   "source": [
    "fig, ax = plt.subplots()\n",
    "plt.xlim(-0.2, 0.55)\n",
    "plt.ylim(-0.2, 1)\n",
    "ax.grid(True)\n",
    "\n",
    "N = len(X_pca)\n",
    "numbers = np.arange(len(X_pca))\n",
    "\n",
    "for i in range(N):\n",
    "    plt.text(X_pca[i][0], X_pca[i][1], numbers[i])\n",
    "\n",
    "plt.show()"
   ]
  },
  {
   "cell_type": "code",
   "execution_count": 60,
   "metadata": {
    "collapsed": false
   },
   "outputs": [],
   "source": [
    "import sklearn.neighbors\n",
    "from scipy import cluster \n",
    "\n",
    "zona_peligrosa = zonas[11]\n",
    "indice_out = 11\n",
    "zonas = zonas[:11] + zonas[12:]\n",
    "X_pca = np.concatenate((X_pca[:11], X_pca[12:]))\n",
    "\n",
    "dist = sklearn.neighbors.DistanceMetric.get_metric('euclidean')\n",
    "matsim = dist.pairwise(X_pca)"
   ]
  },
  {
   "cell_type": "code",
   "execution_count": 61,
   "metadata": {
    "collapsed": false
   },
   "outputs": [],
   "source": [
    "clusters = cluster.hierarchy.linkage(matsim, method = 'centroid')\n",
    "cluster.hierarchy.dendrogram(clusters, color_threshold=1.3)\n",
    "plt.show()"
   ]
  },
  {
   "cell_type": "code",
   "execution_count": 62,
   "metadata": {
    "collapsed": false
   },
   "outputs": [
    {
     "name": "stdout",
     "output_type": "stream",
     "text": [
      "Número de clusters 6\n"
     ]
    }
   ],
   "source": [
    "cut = 1.3\n",
    "labels = cluster.hierarchy.fcluster(clusters, cut, criterion='distance')\n",
    "unique_labels = set(labels)\n",
    "print 'Número de clusters %d' % (len(unique_labels) + 1)\n",
    "\n",
    "colors = np.array(list('bgrcmykbgrcmykbgrcmykbgrcmyk'))\n",
    "colors = np.hstack([colors] * 20)\n",
    "\n",
    "fig, ax = plt.subplots()\n",
    "\n",
    "plt.xlim(-0.2, 0.55)\n",
    "plt.ylim(-0.2, 1)\n",
    "ax.grid(True)\n",
    "\n",
    "for i in range(len(zonas)):\n",
    "    plt.text(X_pca[i][0], X_pca[i][1], i if i < indice_out else i + 1, color = colors[labels[i]])\n",
    "\n",
    "fig.tight_layout()\n",
    "plt.show()"
   ]
  },
  {
   "cell_type": "code",
   "execution_count": 63,
   "metadata": {
    "collapsed": false
   },
   "outputs": [],
   "source": [
    "zone_groups = dict()\n",
    "for i, zona in enumerate(zonas):\n",
    "    if labels[i] in zone_groups:\n",
    "        zone_groups[labels[i]].append(zona)\n",
    "    else:\n",
    "        zone_groups[labels[i]] = [zona]\n",
    "zone_groups[len(unique_labels)+1] = [zona_peligrosa]"
   ]
  },
  {
   "cell_type": "code",
   "execution_count": 64,
   "metadata": {
    "collapsed": false
   },
   "outputs": [],
   "source": [
    "features = []\n",
    "\n",
    "for key in zone_groups:\n",
    "    zone_feature = []\n",
    "    for i in range(1, len(zone_groups[key][0])):\n",
    "        feature = [zone[i] for zone in zone_groups[key]]\n",
    "        maxi = max(feature)\n",
    "        mini = min(feature)\n",
    "        aver = sum(feature) / len(feature)\n",
    "        zone_feature.append(maxi)\n",
    "        zone_feature.append(mini)\n",
    "        zone_feature.append(round(aver,2))\n",
    "    features.append(zone_feature)"
   ]
  },
  {
   "cell_type": "code",
   "execution_count": 65,
   "metadata": {
    "collapsed": false
   },
   "outputs": [],
   "source": [
    "file_name_out = '../Data/Grupos_zonas.csv'\n",
    "\n",
    "zonas_labels = ['Zona de peligro bajo',\n",
    "                'Zona de peligro medio',  \n",
    "                'Zona de peligro alto (Concentracion de accidentes de camiones)', \n",
    "                'Zona de peligro bajo (Concentracion de accidentes de camiones)', \n",
    "                'Zona de peligro alto',\n",
    "                'Zona de peligro muy alto']\n",
    "\n",
    "etiquetas = [' (max)', ' (min)', ' (average)']\n",
    "\n",
    "with open(file_name_out, 'w') as csvfile:\n",
    "    writer = csv.writer(csvfile, delimiter=',')\n",
    "    \n",
    "    headers = ['Zona']\n",
    "    for c in caracteristicas:\n",
    "        for e in etiquetas:\n",
    "            headers.append(c + e)\n",
    "    writer.writerow(headers)\n",
    "    \n",
    "    for i, zone_feature in enumerate(features):\n",
    "        zone_feature.insert(0, zonas_labels[i])\n",
    "    writer.writerows(features)"
   ]
  }
 ],
 "metadata": {
  "anaconda-cloud": {},
  "kernelspec": {
   "display_name": "Python [Root]",
   "language": "python",
   "name": "Python [Root]"
  },
  "language_info": {
   "codemirror_mode": {
    "name": "ipython",
    "version": 2
   },
   "file_extension": ".py",
   "mimetype": "text/x-python",
   "name": "python",
   "nbconvert_exporter": "python",
   "pygments_lexer": "ipython2",
   "version": "2.7.12"
  }
 },
 "nbformat": 4,
 "nbformat_minor": 0
}
