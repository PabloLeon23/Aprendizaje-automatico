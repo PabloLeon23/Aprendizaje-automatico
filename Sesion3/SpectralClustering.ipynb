{
 "cells": [
  {
   "cell_type": "code",
   "execution_count": 1,
   "metadata": {
    "collapsed": false
   },
   "outputs": [],
   "source": [
    "import csv\n",
    "import matplotlib.pyplot as plt\n",
    "import numpy as np\n",
    "from sklearn import metrics\n",
    "from sklearn.cluster import SpectralClustering\n",
    "from sklearn.cluster import KMeans"
   ]
  },
  {
   "cell_type": "code",
   "execution_count": 2,
   "metadata": {
    "collapsed": false
   },
   "outputs": [],
   "source": [
    "f = open('IncidenciasTDTGeo.csv', 'r')\n",
    "cs = csv.reader(f)\n",
    "\n",
    "f = open('Accidents.csv', 'r')\n",
    "cs = csv.reader(f)\n",
    "\n",
    "data = []\n",
    "\n",
    "for row in cs:\n",
    "    lon = float(row[0])\n",
    "    lat = float(row[1])\n",
    "    data.append([lon, lat])\n",
    "\n",
    "X = np.asarray(data)"
   ]
  },
  {
   "cell_type": "code",
   "execution_count": 5,
   "metadata": {
    "collapsed": false
   },
   "outputs": [],
   "source": [
    "# calculate better k\n",
    "init = 'k-means++' \n",
    "iterations = 10 \n",
    "max_iter = 300 \n",
    "tol = 1e-04 \n",
    "\n",
    "distortions = []\n",
    "silhouettes = []\n",
    "\n",
    "for i in range(50, 70):\n",
    "    km = KMeans(i, init, n_init = iterations ,max_iter= max_iter, tol = tol, n_jobs=-1)\n",
    "    labels = km.fit_predict(X)\n",
    "    distortions.append(km.inertia_)\n",
    "    silhouettes.append(metrics.silhouette_score(X, labels))\n",
    "    \n",
    "# Plot distoritions    \n",
    "plt.plot(range(50,70), distortions, marker='o')\n",
    "plt.xlabel('Number of clusters')\n",
    "plt.ylabel('Distortion')\n",
    "plt.show()\n",
    "\n",
    "# Plot Silhouette\n",
    "plt.plot(range(50,70), silhouettes , marker='o')\n",
    "plt.xlabel('Number of clusters')\n",
    "plt.ylabel('Silohouette')\n",
    "plt.show()"
   ]
  },
  {
   "cell_type": "code",
   "execution_count": 22,
   "metadata": {
    "collapsed": false
   },
   "outputs": [],
   "source": [
    "# k-means\n",
    "k = 66\n",
    "init = 'k-means++' \n",
    "iterations = 10 \n",
    "max_iter = 300 \n",
    "tol = 1e-04\n",
    "\n",
    "km = KMeans(k, n_init = iterations, max_iter= max_iter, tol=tol, init=init)\n",
    "labels = km.fit_predict(X)\n",
    "plt.scatter(X[:,0], X[:,1], c=labels)\n",
    "plt.show()"
   ]
  },
  {
   "cell_type": "code",
   "execution_count": 23,
   "metadata": {
    "collapsed": false
   },
   "outputs": [],
   "source": [
    "# Spectral Clustering\n",
    "spectral = SpectralClustering(n_clusters = k, eigen_solver = 'arpack', \n",
    "                              affinity='nearest_neighbors')\n",
    "labels = spectral.fit_predict(X)\n",
    "unique_labels = set(labels)"
   ]
  },
  {
   "cell_type": "code",
   "execution_count": 32,
   "metadata": {
    "collapsed": false
   },
   "outputs": [],
   "source": [
    "#Plot\n",
    "colors = plt.cm.Spectral(np.linspace(0, 1, len(unique_labels)))\n",
    "for k, col in zip(unique_labels, colors):\n",
    "    if k != -1:\n",
    "        class_member_mask = (labels == k)\n",
    "        xy = X[labels == k]\n",
    "        plt.plot(xy[:, 0], xy[:, 1], 'o', markerfacecolor=col, markersize=6)\n",
    "plt.title('Estimated number of clusters: %d' % k)\n",
    "plt.show()"
   ]
  }
 ],
 "metadata": {
  "kernelspec": {
   "display_name": "Python [Root]",
   "language": "python",
   "name": "Python [Root]"
  },
  "language_info": {
   "codemirror_mode": {
    "name": "ipython",
    "version": 2
   },
   "file_extension": ".py",
   "mimetype": "text/x-python",
   "name": "python",
   "nbconvert_exporter": "python",
   "pygments_lexer": "ipython2",
   "version": "2.7.12"
  }
 },
 "nbformat": 4,
 "nbformat_minor": 0
}
