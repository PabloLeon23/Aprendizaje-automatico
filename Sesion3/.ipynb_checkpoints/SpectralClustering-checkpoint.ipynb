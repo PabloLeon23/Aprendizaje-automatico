{
 "cells": [
  {
   "cell_type": "code",
   "execution_count": 1,
   "metadata": {
    "collapsed": false
   },
   "outputs": [],
   "source": [
    "import csv\n",
    "import matplotlib.pyplot as plt\n",
    "import numpy as np\n",
    "from sklearn import metrics\n",
    "from sklearn.cluster import SpectralClustering\n",
    "from sklearn.cluster import KMeans"
   ]
  },
  {
   "cell_type": "code",
   "execution_count": 2,
   "metadata": {
    "collapsed": false
   },
   "outputs": [
    {
     "ename": "IOError",
     "evalue": "[Errno 2] No such file or directory: 'Accidents.csv'",
     "output_type": "error",
     "traceback": [
      "\u001b[0;31m---------------------------------------------------------------------------\u001b[0m",
      "\u001b[0;31mIOError\u001b[0m                                   Traceback (most recent call last)",
      "\u001b[0;32m<ipython-input-2-0c6d946fb941>\u001b[0m in \u001b[0;36m<module>\u001b[0;34m()\u001b[0m\n\u001b[0;32m----> 1\u001b[0;31m \u001b[0mf\u001b[0m \u001b[0;34m=\u001b[0m \u001b[0mopen\u001b[0m\u001b[0;34m(\u001b[0m\u001b[0;34m'Accidents.csv'\u001b[0m\u001b[0;34m,\u001b[0m \u001b[0;34m'r'\u001b[0m\u001b[0;34m)\u001b[0m\u001b[0;34m\u001b[0m\u001b[0m\n\u001b[0m\u001b[1;32m      2\u001b[0m \u001b[0mcs\u001b[0m \u001b[0;34m=\u001b[0m \u001b[0mcsv\u001b[0m\u001b[0;34m.\u001b[0m\u001b[0mreader\u001b[0m\u001b[0;34m(\u001b[0m\u001b[0mf\u001b[0m\u001b[0;34m)\u001b[0m\u001b[0;34m\u001b[0m\u001b[0m\n\u001b[1;32m      3\u001b[0m \u001b[0mcs\u001b[0m\u001b[0;34m.\u001b[0m\u001b[0mnext\u001b[0m\u001b[0;34m(\u001b[0m\u001b[0;34m)\u001b[0m\u001b[0;34m\u001b[0m\u001b[0m\n\u001b[1;32m      4\u001b[0m \u001b[0;34m\u001b[0m\u001b[0m\n\u001b[1;32m      5\u001b[0m \u001b[0mdata\u001b[0m \u001b[0;34m=\u001b[0m \u001b[0;34m[\u001b[0m\u001b[0;34m]\u001b[0m\u001b[0;34m\u001b[0m\u001b[0m\n",
      "\u001b[0;31mIOError\u001b[0m: [Errno 2] No such file or directory: 'Accidents.csv'"
     ]
    }
   ],
   "source": [
    "f = open('Accidents.csv', 'r')\n",
    "cs = csv.reader(f)\n",
    "cs.next()\n",
    "\n",
    "data = []\n",
    "rows = []\n",
    "\n",
    "for row in cs:\n",
    "    lon = float(row[-2])\n",
    "    lat = float(row[-1])\n",
    "    data.append([lon, lat])\n",
    "    rows.append(row)\n",
    "\n",
    "X = np.asarray(data)"
   ]
  },
  {
   "cell_type": "code",
   "execution_count": null,
   "metadata": {
    "collapsed": false
   },
   "outputs": [],
   "source": [
    "# calculate better k\n",
    "init = 'k-means++' \n",
    "iterations = 10 \n",
    "max_iter = 300 \n",
    "tol = 1e-04 \n",
    "\n",
    "distortions = []\n",
    "silhouettes = []\n",
    "\n",
    "for i in range(50, 70):\n",
    "    km = KMeans(i, init, n_init = iterations ,max_iter= max_iter, tol = tol, n_jobs=-1)\n",
    "    labels = km.fit_predict(X)\n",
    "    distortions.append(km.inertia_)\n",
    "    silhouettes.append(metrics.silhouette_score(X, labels))\n",
    "    \n",
    "# Plot distortions    \n",
    "plt.plot(range(50,70), distortions, marker='o')\n",
    "plt.xlabel('Number of clusters')\n",
    "plt.ylabel('Distortion')\n",
    "plt.show()\n",
    "\n",
    "# Plot Silhouette\n",
    "plt.plot(range(50,70), silhouettes , marker='o')\n",
    "plt.xlabel('Number of clusters')\n",
    "plt.ylabel('Silohouette')\n",
    "plt.show()"
   ]
  },
  {
   "cell_type": "code",
   "execution_count": 3,
   "metadata": {
    "collapsed": false
   },
   "outputs": [],
   "source": [
    "# k-means\n",
    "k = 66\n",
    "init = 'k-means++' \n",
    "iterations = 10 \n",
    "max_iter = 300 \n",
    "tol = 1e-04\n",
    "\n",
    "km = KMeans(k, n_init = iterations, max_iter= max_iter, tol=tol, init=init)\n",
    "labels = km.fit_predict(X)\n",
    "plt.scatter(X[:,0], X[:,1], c=labels)\n",
    "plt.show()"
   ]
  },
  {
   "cell_type": "code",
   "execution_count": 5,
   "metadata": {
    "collapsed": false
   },
   "outputs": [],
   "source": [
    "#Write new data in a csv file\n",
    "headers = ['causa', 'poblacion','fecha', 'hora', 'nivel', 'carretera', \n",
    "           'pk_inicial', 'pk_final', 'sentido', 'longitud', 'latitud',\n",
    "          'zona']\n",
    "with open('Accidents_zones_kmeans.csv', 'w') as csvfile:\n",
    "    writer = csv.writer(csvfile, delimiter=',')\n",
    "    writer.writerow(headers)\n",
    "    for i in range(len(labels)):\n",
    "        writer.writerow(rows[i]+[labels[i]])"
   ]
  },
  {
   "cell_type": "code",
   "execution_count": 4,
   "metadata": {
    "collapsed": false
   },
   "outputs": [
    {
     "name": "stderr",
     "output_type": "stream",
     "text": [
      "/home/pablo/anaconda2/lib/python2.7/site-packages/sklearn/manifold/spectral_embedding_.py:217: UserWarning: Graph is not fully connected, spectral embedding may not work as expected.\n",
      "  warnings.warn(\"Graph is not fully connected, spectral embedding\"\n"
     ]
    }
   ],
   "source": [
    "# Spectral Clustering\n",
    "\"\"\"\n",
    "spectral = SpectralClustering(n_clusters = 66, eigen_solver = 'arpack', \n",
    "                              affinity='nearest_neighbors', n_neighbors = 10, \n",
    "                              kernel_params = {'radius':0.095, 'metric':'euclidean','mode':'distance'}, \n",
    "                              n_init = 20)\n",
    "\"\"\"\n",
    "spectral = SpectralClustering(n_clusters =66, eigen_solver = 'arpack', affinity = 'nearest_neighbors', gamma=0.095)\n",
    "labels = spectral.fit_predict(X)\n",
    "unique_labels = set(labels)"
   ]
  },
  {
   "cell_type": "code",
   "execution_count": 5,
   "metadata": {
    "collapsed": false
   },
   "outputs": [
    {
     "name": "stderr",
     "output_type": "stream",
     "text": [
      "/home/pablo/anaconda2/lib/python2.7/site-packages/matplotlib/lines.py:1106: UnicodeWarning: Unicode unequal comparison failed to convert both arguments to Unicode - interpreting them as being unequal\n",
      "  if self._markerfacecolor != fc:\n"
     ]
    }
   ],
   "source": [
    "#Plot\n",
    "colors = plt.cm.Spectral(np.linspace(0, 1, len(unique_labels)))\n",
    "for k, col in zip(unique_labels, colors):\n",
    "    if k != -1:\n",
    "        class_member_mask = (labels == k)\n",
    "        xy = X[labels == k]\n",
    "        plt.plot(xy[:, 0], xy[:, 1], 'o', markerfacecolor=col, markersize=6)\n",
    "plt.title('Estimated number of clusters: %d' % k)\n",
    "plt.show()"
   ]
  }
 ],
 "metadata": {
  "anaconda-cloud": {},
  "kernelspec": {
   "display_name": "Python [default]",
   "language": "python",
   "name": "python2"
  },
  "language_info": {
   "codemirror_mode": {
    "name": "ipython",
    "version": 2
   },
   "file_extension": ".py",
   "mimetype": "text/x-python",
   "name": "python",
   "nbconvert_exporter": "python",
   "pygments_lexer": "ipython2",
   "version": "2.7.12"
  }
 },
 "nbformat": 4,
 "nbformat_minor": 0
}
