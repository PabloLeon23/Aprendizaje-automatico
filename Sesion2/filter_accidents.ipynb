{
 "cells": [
  {
   "cell_type": "code",
   "execution_count": 42,
   "metadata": {
    "collapsed": true
   },
   "outputs": [],
   "source": [
    "import csv\n",
    "import matplotlib.pyplot as plt\n",
    "import numpy as np\n",
    "\n",
    "\n",
    "def equals(X, Y):\n",
    "    lon1, lat1, date1, hour1 = float(X[-2]), float(X[-1]), X[2], X[3]\n",
    "    lon2, lat2, date2, hour2 = float(Y[-2]), float(Y[-1]), Y[2], Y[3]\n",
    "    date1 = np.datetime64(date1 + ' ' + hour1)\n",
    "    date2 = np.datetime64(date2 + ' ' + hour2)\n",
    "    \n",
    "    spacial_condition = np.sqrt((lon1-lon2)**2 + (lat1-lat2)**2) <= 0.05\n",
    "    date_condition = date2 - np.timedelta64(2, 'h') <= date1 <= date2 + np.timedelta64(2, 'h')\n",
    "    \n",
    "    return spacial_condition and date_condition"
   ]
  },
  {
   "cell_type": "code",
   "execution_count": 43,
   "metadata": {
    "collapsed": true
   },
   "outputs": [],
   "source": [
    "f = open('../Data/Accidents.csv')\n",
    "csv_file = csv.reader(f)\n",
    "headers = csv_file.next()"
   ]
  },
  {
   "cell_type": "markdown",
   "metadata": {},
   "source": [
    "<p style=\"font-family:courier;\">1. We evaluate if two accidents refer to the same accident</p>"
   ]
  },
  {
   "cell_type": "code",
   "execution_count": 44,
   "metadata": {
    "collapsed": false
   },
   "outputs": [
    {
     "name": "stdout",
     "output_type": "stream",
     "text": [
      "Repatead accidents: 2261\n"
     ]
    }
   ],
   "source": [
    "accidents = []\n",
    "reps = 0\n",
    "\n",
    "for row in csv_file:\n",
    "    if accidents:\n",
    "        eq = False\n",
    "        for acc in accidents:\n",
    "            if equals(row, acc):\n",
    "                eq = True\n",
    "                break\n",
    "        if not eq:\n",
    "            accidents.append(row)\n",
    "        else:\n",
    "            reps += 1\n",
    "    else:\n",
    "        accidents.append(row)\n",
    "\n",
    "print 'Repatead accidents: ' + str(reps)"
   ]
  },
  {
   "cell_type": "code",
   "execution_count": 46,
   "metadata": {
    "collapsed": false
   },
   "outputs": [],
   "source": [
    "with open('../Data/Accidents2.csv', 'w') as csvfile:\n",
    "    writer = csv.writer(csvfile, delimiter=',')\n",
    "    writer.writerow(headers)\n",
    "    writer.writerows(accidents)"
   ]
  }
 ],
 "metadata": {
  "anaconda-cloud": {},
  "kernelspec": {
   "display_name": "Python [Root]",
   "language": "python",
   "name": "Python [Root]"
  },
  "language_info": {
   "codemirror_mode": {
    "name": "ipython",
    "version": 2
   },
   "file_extension": ".py",
   "mimetype": "text/x-python",
   "name": "python",
   "nbconvert_exporter": "python",
   "pygments_lexer": "ipython2",
   "version": "2.7.12"
  }
 },
 "nbformat": 4,
 "nbformat_minor": 0
}
