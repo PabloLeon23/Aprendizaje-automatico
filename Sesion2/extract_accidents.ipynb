{
 "cells": [
  {
   "cell_type": "markdown",
   "metadata": {},
   "source": [
    "<p style=\"font-family:courier;\">1. We evaluate if two accidents refer to the same accident</p>"
   ]
  },
  {
   "cell_type": "code",
   "execution_count": 1,
   "metadata": {
    "collapsed": true
   },
   "outputs": [],
   "source": [
    "import csv\n",
    "import matplotlib.pyplot as plt\n",
    "import numpy as np\n",
    "\n",
    "\n",
    "def equals(X, Y):\n",
    "    condicion_espacial = np.sqrt((X[0]-Y[0])**2 + (X[1]-Y[1])**2) <= 0.01\n",
    "    condicion_temporal = X[2] - np.timedelta64(2, 'm') <= Y[2] and X[2] + np.timedelta64(2, 'm') >= Y[2]\n",
    "    return condicion_espacial and condicion_temporal"
   ]
  },
  {
   "cell_type": "markdown",
   "metadata": {},
   "source": [
    "<p style=\"font-family:courier;\">2. We read the accidents of the csv file IncidenciasTDTGeo and we remove the outliers</p>"
   ]
  },
  {
   "cell_type": "code",
   "execution_count": 2,
   "metadata": {
    "collapsed": false
   },
   "outputs": [
    {
     "name": "stdout",
     "output_type": "stream",
     "text": [
      "Accidente: 7921\n",
      "Raros: 18\n"
     ]
    }
   ],
   "source": [
    "f = open('../Data/IncidenciasTDTGeo.csv', 'r')\n",
    "cs = csv.reader(f)\n",
    "\n",
    "data = []\n",
    "rares = []\n",
    "rows = []\n",
    "\n",
    "lon_index = 13\n",
    "lat_index = 14\n",
    "date_index = 6\n",
    "\n",
    "for row in cs:\n",
    "    if row[0] == 'Accidente':\n",
    "        lon = float(row[lon_index])\n",
    "        lat = float(row[lat_index])\n",
    "        date = np.datetime64(row[date_index])\n",
    "       \n",
    "        # Delete the outliers\n",
    "        if lon > -2.25:\n",
    "            rares.append(row)\n",
    "        else:\n",
    "            data.append([lon, lat, date])\n",
    "            rows.append(row)\n",
    "\n",
    "print 'Accidente:', len(data)\n",
    "print 'Raros:', len(rares)\n"
   ]
  },
  {
   "cell_type": "markdown",
   "metadata": {},
   "source": [
    "<p style=\"font-family:courier;\">3. We remove the repeated elements</p>"
   ]
  },
  {
   "cell_type": "code",
   "execution_count": 3,
   "metadata": {
    "collapsed": true
   },
   "outputs": [],
   "source": [
    "new_rows = []\n",
    "i = 0\n",
    "while i < len(data):\n",
    "    actual = data[i]\n",
    "    repes = True\n",
    "    while repes:\n",
    "        i += 1\n",
    "        if i == len(data) or not equals(actual, data[i]):\n",
    "            repes = False\n",
    "            i -= 1\n",
    "    new_row = rows[i][4:6] + rows[i][6].split() + rows[i][7:12] + rows[i][13:]\n",
    "    new_rows.append(new_row)\n",
    "    i += 1"
   ]
  },
  {
   "cell_type": "markdown",
   "metadata": {},
   "source": [
    "<p style=\"font-family:courier;\">4. We write new data in a csv file called Accidents</p>"
   ]
  },
  {
   "cell_type": "code",
   "execution_count": 4,
   "metadata": {
    "collapsed": true
   },
   "outputs": [],
   "source": [
    "headers = ['causa', 'poblacion','fecha', 'hora', 'nivel', 'carretera', 'pk_inicial', 'pk_final', 'sentido', 'longitud', 'latitud']\n",
    "with open('../Data/Accidents.csv', 'w') as csvfile:\n",
    "    writer = csv.writer(csvfile, delimiter=',')\n",
    "    writer.writerow(headers)\n",
    "    writer.writerows(new_rows)\n"
   ]
  },
  {
   "cell_type": "code",
   "execution_count": null,
   "metadata": {
    "collapsed": true
   },
   "outputs": [],
   "source": []
  }
 ],
 "metadata": {
  "anaconda-cloud": {},
  "kernelspec": {
   "display_name": "Python [default]",
   "language": "python",
   "name": "python2"
  },
  "language_info": {
   "codemirror_mode": {
    "name": "ipython",
    "version": 2
   },
   "file_extension": ".py",
   "mimetype": "text/x-python",
   "name": "python",
   "nbconvert_exporter": "python",
   "pygments_lexer": "ipython2",
   "version": "2.7.12"
  }
 },
 "nbformat": 4,
 "nbformat_minor": 1
}
