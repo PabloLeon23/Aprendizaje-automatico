{
 "cells": [
  {
   "cell_type": "code",
   "execution_count": 1,
   "metadata": {
    "collapsed": false
   },
   "outputs": [
    {
     "name": "stdout",
     "output_type": "stream",
     "text": [
      "Accidente: 7921\n",
      "Raros: 18\n"
     ]
    }
   ],
   "source": [
    "import csv\n",
    "import matplotlib.pyplot as plt\n",
    "import numpy as np\n",
    "\n",
    "f = open('IncidenciasTDTGeo.csv', 'r')\n",
    "cs = csv.reader(f)\n",
    "\n",
    "data = []\n",
    "rares = []\n",
    "\n",
    "for row in cs:\n",
    "    if row[0] == 'Accidente':\n",
    "        lat = float(row[-1])\n",
    "        lon = float(row[-2])\n",
    "        if lon > -2.25:\n",
    "            rares.append(row)\n",
    "        else:\n",
    "            data.append([lon, lat])\n",
    "\n",
    "X = np.asarray(data)\n",
    "            \n",
    "print 'Accidente:', len(data)\n",
    "print 'Raros:', len(rares)"
   ]
  },
  {
   "cell_type": "code",
   "execution_count": 2,
   "metadata": {
    "collapsed": false
   },
   "outputs": [],
   "source": [
    "# Plot accidents\n",
    "fig, ax = plt.subplots()\n",
    "plt.scatter(X[:,0], X[:,1], c='r', marker='o')\n",
    "ax.grid(True)\n",
    "plt.title('Accidentes en Bizkaia')\n",
    "plt.show()"
   ]
  },
  {
   "cell_type": "code",
   "execution_count": 4,
   "metadata": {
    "collapsed": false
   },
   "outputs": [],
   "source": [
    "# Compute k-nearest neighboors\n",
    "from sklearn.neighbors import DistanceMetric, kneighbors_graph\n",
    "dist = DistanceMetric.get_metric('euclidean')\n",
    "matdist = dist.pairwise(X)\n",
    "\n",
    "min_samples = 12\n",
    "A = kneighbors_graph(X, min_samples, include_self=False)\n",
    "Arr = A.toarray()\n",
    "\n",
    "seq = []\n",
    "for i in xrange(len(data)):\n",
    "    for j in xrange(len(data)):\n",
    "        if Arr[i][j] != 0:\n",
    "            seq.append(matdist[i][j])\n",
    "            \n",
    "seq.sort()\n",
    "plt.plot(seq)\n",
    "plt.show()"
   ]
  },
  {
   "cell_type": "code",
   "execution_count": 12,
   "metadata": {
    "collapsed": false
   },
   "outputs": [
    {
     "name": "stdout",
     "output_type": "stream",
     "text": [
      "Número de clusters:  149\n"
     ]
    }
   ],
   "source": [
    "from sklearn.cluster import DBSCAN\n",
    "\n",
    "db = DBSCAN(eps=0.003, min_samples=min_samples).fit(X)\n",
    "core_samples_mask = np.zeros_like(db.labels_, dtype=bool)\n",
    "core_samples_mask[db.core_sample_indices_] = True\n",
    "unique_labels = set(db.labels_)\n",
    "n_clusters = len(unique_labels) - (1 if -1 in unique_labels else 0)\n",
    "\n",
    "print 'Número de clusters: ', n_clusters"
   ]
  },
  {
   "cell_type": "code",
   "execution_count": 6,
   "metadata": {
    "collapsed": false
   },
   "outputs": [
    {
     "name": "stdout",
     "output_type": "stream",
     "text": [
      "Silhoutte Coefficient: 0.621\n"
     ]
    }
   ],
   "source": [
    "# Validation/Evaluation\n",
    "from sklearn import metrics\n",
    "print \"Silhoutte Coefficient: %0.3f\" % metrics.silhouette_score(X, db.labels_)"
   ]
  },
  {
   "cell_type": "code",
   "execution_count": 14,
   "metadata": {
    "collapsed": false
   },
   "outputs": [],
   "source": [
    "#plt.scatter(X[:,0], X[:,1], c=labels)\n",
    "#plt.show()\n",
    "colors = plt.cm.Spectral(np.linspace(0, 1, len(unique_labels)))\n",
    "for k, col in zip(unique_labels, colors):\n",
    "    if k != -1:\n",
    "        class_member_mask = (db.labels_ == k)\n",
    "        xy = X[class_member_mask & core_samples_mask]\n",
    "        plt.plot(xy[:, 0], xy[:, 1], 'o', markerfacecolor=col, markeredgecolor='k', markersize=7)\n",
    "        xy = X[class_member_mask & ~core_samples_mask]\n",
    "        plt.plot(xy[:, 0], xy[:, 1], 'o', markerfacecolor=col, markeredgecolor='k', markersize=2)\n",
    "plt.title('Estimated number of clusters: %d' % n_clusters)\n",
    "plt.show()"
   ]
  },
  {
   "cell_type": "code",
   "execution_count": null,
   "metadata": {
    "collapsed": false
   },
   "outputs": [],
   "source": []
  },
  {
   "cell_type": "code",
   "execution_count": null,
   "metadata": {
    "collapsed": true
   },
   "outputs": [],
   "source": []
  }
 ],
 "metadata": {
  "kernelspec": {
   "display_name": "Python [Root]",
   "language": "python",
   "name": "Python [Root]"
  },
  "language_info": {
   "codemirror_mode": {
    "name": "ipython",
    "version": 2
   },
   "file_extension": ".py",
   "mimetype": "text/x-python",
   "name": "python",
   "nbconvert_exporter": "python",
   "pygments_lexer": "ipython2",
   "version": "2.7.12"
  }
 },
 "nbformat": 4,
 "nbformat_minor": 0
}
