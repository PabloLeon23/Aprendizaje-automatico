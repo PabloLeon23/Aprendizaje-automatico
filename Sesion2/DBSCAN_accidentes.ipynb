{
 "cells": [
  {
   "cell_type": "code",
   "execution_count": 39,
   "metadata": {
    "collapsed": false
   },
   "outputs": [
    {
     "name": "stdout",
     "output_type": "stream",
     "text": [
      "Accidente: 7921\n",
      "Raros: 18\n"
     ]
    }
   ],
   "source": [
    "import csv\n",
    "import matplotlib.pyplot as plt\n",
    "import numpy as np\n",
    "\n",
    "f = open('IncidenciasTDTGeo.csv', 'r')\n",
    "cs = csv.reader(f)\n",
    "\n",
    "data = []\n",
    "rares = []\n",
    "\n",
    "for row in cs:\n",
    "    if row[0] == 'Accidente':\n",
    "        lat = row[-1].rstrip()\n",
    "        lon = row[-2].rstrip()\n",
    "        if not '.' in lat:\n",
    "            lat.insert(2, '.')\n",
    "        if not '.' in lon:\n",
    "            lon.insert(2, '.')\n",
    "        \n",
    "        lon = float(lon)\n",
    "        lat = float(lat)\n",
    "            \n",
    "        if lon > -2.25:\n",
    "            rares.append(row)\n",
    "        else:\n",
    "            data.append([lon, lat])\n",
    "\n",
    "X = np.asarray(data)\n",
    "            \n",
    "print 'Accidente:', len(data)\n",
    "print 'Raros:', len(rares)"
   ]
  },
  {
   "cell_type": "code",
   "execution_count": 40,
   "metadata": {
    "collapsed": false
   },
   "outputs": [],
   "source": [
    "# Plot accidents\n",
    "fig, ax = plt.subplots()\n",
    "plt.scatter(X[:,0], X[:,1], c='r', marker='o')\n",
    "ax.grid(True)\n",
    "plt.title('Accidentes en Bizkaia')\n",
    "plt.show()"
   ]
  },
  {
   "cell_type": "code",
   "execution_count": 41,
   "metadata": {
    "collapsed": false
   },
   "outputs": [],
   "source": [
    "# Compute k-nearest neighboors\n",
    "from sklearn.neighbors import DistanceMetric, kneighbors_graph\n",
    "dist = DistanceMetric.get_metric('euclidean')\n",
    "matdist = dist.pairwise(X)\n",
    "\n",
    "min_samples = 12\n",
    "A = kneighbors_graph(X, min_samples, include_self=False)\n",
    "Arr = A.toarray()\n",
    "\n",
    "seq = []\n",
    "for i in xrange(len(data)):\n",
    "    for j in xrange(len(data)):\n",
    "        if Arr[i][j] != 0:\n",
    "            seq.append(matdist[i][j])\n",
    "            \n",
    "seq.sort()\n",
    "plt.plot(seq)\n",
    "plt.show()"
   ]
  },
  {
   "cell_type": "code",
   "execution_count": 42,
   "metadata": {
    "collapsed": false
   },
   "outputs": [
    {
     "name": "stdout",
     "output_type": "stream",
     "text": [
      "Número de clusters:  169\n"
     ]
    }
   ],
   "source": [
    "from sklearn.cluster import DBSCAN\n",
    "\n",
    "db = DBSCAN(eps=0.0002, min_samples=12)\n",
    "labels = db.fit_predict(X)\n",
    "unique_labels = set(labels)\n",
    "n_clusters = len(unique_labels) - (1 if -1 in unique_labels else 0)\n",
    "\n",
    "print 'Número de clusters: ', n_clusters"
   ]
  },
  {
   "cell_type": "code",
   "execution_count": 43,
   "metadata": {
    "collapsed": false
   },
   "outputs": [
    {
     "name": "stdout",
     "output_type": "stream",
     "text": [
      "Silhoutte Coefficient: 0.543\n"
     ]
    }
   ],
   "source": [
    "# Validation/Evaluation\n",
    "from sklearn import metrics\n",
    "print \"Silhoutte Coefficient: %0.3f\" % metrics.silhouette_score(X, labels)"
   ]
  },
  {
   "cell_type": "code",
   "execution_count": 44,
   "metadata": {
    "collapsed": false
   },
   "outputs": [],
   "source": [
    "#plt.scatter(X[:,0], X[:,1], c=labels)\n",
    "#plt.show()\n"
    "unique_labels = set(labels)\n"
    "colors = plt.cm.Spectral(np.linspace(0, 1, len(unique_labels)))\n"
    "for k, col in zip(unique_labels, colors):\n"

    "   if (k != -1):\n"
    "       class_member_mask = (labels == k)\n"

    "       xy = X[class_member_mask & core_samples_mask]\n"
    "       plt.plot(xy[:, 0], xy[:, 1], 'o', markerfacecolor=col, markeredgecolor='k', markersize=14)\n"

    "       xy = X[class_member_mask & ~core_samples_mask]\n"
    "       plt.plot(xy[:, 0], xy[:, 1], 'o', markerfacecolor=col, markeredgecolor='k', markersize=6)\n"

    "plt.title('Estimated number of clusters: %d' % n_clusters)\n"
    "plt.show()\n"
    
   ]
  }
 ],
 "metadata": {
  "kernelspec": {
   "display_name": "Python [Root]",
   "language": "python",
   "name": "Python [Root]"
  },
  "language_info": {
   "codemirror_mode": {
    "name": "ipython",
    "version": 2
   },
   "file_extension": ".py",
   "mimetype": "text/x-python",
   "name": "python",
   "nbconvert_exporter": "python",
   "pygments_lexer": "ipython2",
   "version": "2.7.12"
  }
 },
 "nbformat": 4,
 "nbformat_minor": 0
}
