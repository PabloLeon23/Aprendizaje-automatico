{
 "cells": [
  {
   "cell_type": "code",
   "execution_count": 2,
   "metadata": {
    "collapsed": false
   },
   "outputs": [],
   "source": [
    "import csv\n",
    "import matplotlib.pyplot as plt\n",
    "import numpy as np\n",
    "\n",
    "f = open('Accidents.csv', 'r')\n",
    "cs = csv.reader(f)\n",
    "cs.next()\n",
    "\n",
    "data = []\n",
    "rows = []\n",
    "\n",
    "for row in cs:\n",
    "    lon = float(row[-2])\n",
    "    lat = float(row[-1])\n",
    "    data.append([lon, lat])\n",
    "    rows.append(row)\n",
    "\n",
    "X = np.asarray(data)"
   ]
  },
  {
   "cell_type": "code",
   "execution_count": 3,
   "metadata": {
    "collapsed": false
   },
   "outputs": [],
   "source": [
    "# Plot accidents\n",
    "fig, ax = plt.subplots()\n",
    "plt.scatter(X[:,0], X[:,1], c='r', marker='o')\n",
    "ax.grid(True)\n",
    "plt.title('Accidentes en Bizkaia')\n",
    "plt.show()"
   ]
  },
  {
   "cell_type": "code",
   "execution_count": 4,
   "metadata": {
    "collapsed": false
   },
   "outputs": [],
   "source": [
    "# Compute k-nearest neighboors\n",
    "from sklearn.neighbors import DistanceMetric, kneighbors_graph\n",
    "dist = DistanceMetric.get_metric('euclidean')\n",
    "matdist = dist.pairwise(X)\n",
    "\n",
    "min_samples = 10\n",
    "A = kneighbors_graph(X, min_samples, include_self=False)\n",
    "Arr = A.toarray()\n",
    "\n",
    "seq = []\n",
    "for i in xrange(len(data)):\n",
    "    for j in xrange(len(data)):\n",
    "        if Arr[i][j] != 0:\n",
    "            seq.append(matdist[i][j])\n",
    "            \n",
    "seq.sort()\n",
    "plt.plot(seq)\n",
    "plt.show()"
   ]
  },
  {
   "cell_type": "code",
   "execution_count": 5,
   "metadata": {
    "collapsed": false
   },
   "outputs": [
    {
     "name": "stdout",
     "output_type": "stream",
     "text": [
      "Número de clusters:  65\n"
     ]
    }
   ],
   "source": [
    "from sklearn.cluster import DBSCAN\n",
    "\n",
    "db = DBSCAN(eps=0.0095, min_samples=10).fit(X)\n",
    "unique_labels = set(db.labels_)\n",
    "n_clusters = len(unique_labels) - (1 if -1 in unique_labels else 0)\n",
    "\n",
    "print 'Número de clusters: ', n_clusters"
   ]
  },
  {
   "cell_type": "code",
   "execution_count": null,
   "metadata": {
    "collapsed": false
   },
   "outputs": [],
   "source": [
    "# Validation/Evaluation\n",
    "from sklearn import metrics\n",
    "print \"Silhoutte Coefficient: %0.3f\" % metrics.silhouette_score(X, db.labels_)"
   ]
  },
  {
   "cell_type": "code",
   "execution_count": 21,
   "metadata": {
    "collapsed": false
   },
   "outputs": [],
   "source": [
    "colors = plt.cm.Spectral(np.linspace(0, 1, len(unique_labels)))\n",
    "for k, col in zip(unique_labels, colors):\n",
    "    if k != -1:\n",
    "        class_member_mask = (db.labels_ == k)\n",
    "        xy = X[db.labels_ == k]\n",
    "        plt.plot(xy[:, 0], xy[:, 1], 'o', markerfacecolor=col, markersize=6)\n",
    "plt.title('Estimated number of clusters: %d' % n_clusters)\n",
    "plt.show()"
   ]
  },
  {
   "cell_type": "code",
   "execution_count": 6,
   "metadata": {
    "collapsed": false
   },
   "outputs": [],
   "source": [
    "#3. Write new data in a csv file\n",
    "headers = ['causa', 'poblacion','fecha', 'hora', 'nivel', 'carretera', \n",
    "           'pk_inicial', 'pk_final', 'sentido', 'longitud', 'latitud',\n",
    "          'zona']\n",
    "with open('Accidents_zones_dbscan.csv', 'w') as csvfile:\n",
    "    writer = csv.writer(csvfile, delimiter=',')\n",
    "    writer.writerow(headers)\n",
    "    for i in range(db.labels_.size):\n",
    "        writer.writerow(rows[i]+[db.labels_[i]])"
   ]
  }
 ],
 "metadata": {
  "kernelspec": {
   "display_name": "Python [Root]",
   "language": "python",
   "name": "Python [Root]"
  },
  "language_info": {
   "codemirror_mode": {
    "name": "ipython",
    "version": 2
   },
   "file_extension": ".py",
   "mimetype": "text/x-python",
   "name": "python",
   "nbconvert_exporter": "python",
   "pygments_lexer": "ipython2",
   "version": "2.7.12"
  }
 },
 "nbformat": 4,
 "nbformat_minor": 0
}
