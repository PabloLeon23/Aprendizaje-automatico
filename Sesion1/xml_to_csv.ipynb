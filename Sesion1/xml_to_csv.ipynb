{
 "cells": [
  {
   "cell_type": "markdown",
   "metadata": {},
   "source": [
    "<p style=\"font-family:courier;\">1. We filter the incidences of XML occurring in Bizkaia and store them in a CSV called IncidenciasTDTGeo. </p>"
   ]
  },
  {
   "cell_type": "code",
   "execution_count": 1,
   "metadata": {
    "collapsed": false
   },
   "outputs": [
    {
     "name": "stdout",
     "output_type": "stream",
     "text": [
      "Incidencias: 20725\n"
     ]
    }
   ],
   "source": [
    "# -*- coding: utf-8 -*-\n",
    "\n",
    "import csv\n",
    "import codecs\n",
    "\n",
    "xml = codecs.open('../Data/IncidenciasTDTHist.xml', 'r', encoding='utf-8', errors='ignore')\n",
    "X = xml.read().split('<incidenciaGeolocalizada>')[1:]\n",
    "\n",
    "with open('../Data/IncidenciasTDTGeo.csv', 'w') as csvfile:\n",
    "    fieldnames = ['tipo', 'autonomia', 'provincia', 'matricula', 'causa', 'poblacion',\\\n",
    "                'fechahora_ini', 'nivel', 'carretera', 'pk_inicial', 'pk_final',\\\n",
    "                'sentido', 'nombre', 'longitud', 'latitud']\n",
    "    writer = csv.DictWriter(csvfile, fieldnames=fieldnames)\n",
    "    writer.writeheader()\n",
    "    incidences = 0\n",
    "\n",
    "    for row in X:\n",
    "        if '<provincia>BIZKAIA' in row:\n",
    "            data = {}\n",
    "            row = row.split('><')[:-1]\n",
    "            for campo in row:\n",
    "                if '>' in campo:\n",
    "                    ind1 = campo.index('>')\n",
    "                    ind2 = campo.index('</')\n",
    "                    nombre = campo[:ind1]\n",
    "                    if 'tipo' in campo:\n",
    "                        nombre = campo[1:ind1]\n",
    "                    data[nombre] = campo[ind1+1:ind2]\n",
    "                else:\n",
    "                    data[campo[:-1]] = ''\n",
    "            writer.writerow(data)\n",
    "            incidences += 1\n",
    "    print('Incidencias: ' + str(incidences))\n",
    "    \n"
   ]
  },
  {
   "cell_type": "code",
   "execution_count": null,
   "metadata": {
    "collapsed": true
   },
   "outputs": [],
   "source": []
  }
 ],
 "metadata": {
  "anaconda-cloud": {},
  "kernelspec": {
   "display_name": "Python [default]",
   "language": "python",
   "name": "python2"
  },
  "language_info": {
   "codemirror_mode": {
    "name": "ipython",
    "version": 2
   },
   "file_extension": ".py",
   "mimetype": "text/x-python",
   "name": "python",
   "nbconvert_exporter": "python",
   "pygments_lexer": "ipython2",
   "version": "2.7.12"
  }
 },
 "nbformat": 4,
 "nbformat_minor": 1
}
