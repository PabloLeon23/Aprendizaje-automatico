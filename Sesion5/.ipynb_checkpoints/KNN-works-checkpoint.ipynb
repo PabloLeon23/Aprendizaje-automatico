{
 "cells": [
  {
   "cell_type": "code",
   "execution_count": 1,
   "metadata": {
    "collapsed": false
   },
   "outputs": [],
   "source": [
    "from __future__ import division\n",
    "import numpy as np\n",
    "import matplotlib.pyplot as plt\n",
    "from matplotlib.colors import ListedColormap\n",
    "from sklearn import neighbors\n",
    "import pandas as pd"
   ]
  },
  {
   "cell_type": "code",
   "execution_count": 2,
   "metadata": {
    "collapsed": false
   },
   "outputs": [],
   "source": [
    "df = pd.read_csv('../Data/Accidents_zones_dbscan.csv')\n",
    "df = df[['longitud', 'latitud', 'zona']]\n",
    "df = df[df['zona'] != -1]"
   ]
  },
  {
   "cell_type": "code",
   "execution_count": 3,
   "metadata": {
    "collapsed": false
   },
   "outputs": [],
   "source": [
    "N = df.shape[0]\n",
    "train_p = 0.7\n",
    "\n",
    "df['is_train'] = np.random.uniform(0, 1, len(df)) <= train_p\n",
    "df_train = df[df['is_train'] == True]\n",
    "df_test = df[df['is_train'] == False]"
   ]
  },
  {
   "cell_type": "code",
   "execution_count": 4,
   "metadata": {
    "collapsed": false
   },
   "outputs": [
    {
     "name": "stdout",
     "output_type": "stream",
     "text": [
      "Train size: 1905\n",
      "Test size: 804\n"
     ]
    }
   ],
   "source": [
    "print 'Train size: ' + str(len(df_train))\n",
    "print 'Test size: ' + str(len(df_test))"
   ]
  },
  {
   "cell_type": "code",
   "execution_count": 5,
   "metadata": {
    "collapsed": false
   },
   "outputs": [
    {
     "data": {
      "text/plain": [
       "\"\\nfor weights in ['uniform', 'distance']:\\n    errors = []\\n    for n_neighbors in range(1, 100):\\n        clf = neighbors.KNeighborsClassifier(n_neighbors, weights=weights)\\n        clf.fit(df_train[['latitud', 'longitud']], df_train['zona'])\\n        Z = clf.predict(df_test[['latitud', 'longitud']])\\n        err = (df_test['zona'] != Z).sum() / len(df_test)\\n\\n        errors.append(err)\\n\\n    plt.title('Selection of best K (%s)' % weights)\\n    plt.ylabel('Error')\\n    plt.xlabel('K')\\n    plt.plot(errors)\\n    plt.show()\\n\""
      ]
     },
     "execution_count": 5,
     "metadata": {},
     "output_type": "execute_result"
    }
   ],
   "source": [
    "\"\"\"\n",
    "for weights in ['uniform', 'distance']:\n",
    "    errors = []\n",
    "    for n_neighbors in range(1, 100):\n",
    "        clf = neighbors.KNeighborsClassifier(n_neighbors, weights=weights)\n",
    "        clf.fit(df_train[['latitud', 'longitud']], df_train['zona'])\n",
    "        Z = clf.predict(df_test[['latitud', 'longitud']])\n",
    "        err = (df_test['zona'] != Z).sum() / len(df_test)\n",
    "\n",
    "        errors.append(err)\n",
    "\n",
    "    plt.title('Selection of best K (%s)' % weights)\n",
    "    plt.ylabel('Error')\n",
    "    plt.xlabel('K')\n",
    "    plt.plot(errors)\n",
    "    plt.show()\n",
    "\"\"\""
   ]
  },
  {
   "cell_type": "code",
   "execution_count": 6,
   "metadata": {
    "collapsed": false
   },
   "outputs": [],
   "source": [
    "for weights in ['uniform', 'distance']:\n",
    "    errors = []\n",
    "    for n_neighbors in range(1, 101):\n",
    "        clf = neighbors.KNeighborsClassifier(n_neighbors, weights=weights)\n",
    "        clf.fit(df_train[['latitud', 'longitud']], df_train['zona'])\n",
    "        Z = clf.predict(df_test[['latitud', 'longitud']])\n",
    "        err = (df_test['zona'] != Z).sum() / len(df_test)\n",
    "\n",
    "        errors.append(err)\n",
    "\n",
    "    plt.title('Selection of best K (%s)' % weights)\n",
    "    plt.ylabel('Error')\n",
    "    plt.xlabel('K')\n",
    "    plt.plot(errors)\n",
    "    plt.show()"
   ]
  },
  {
   "cell_type": "code",
   "execution_count": null,
   "metadata": {
    "collapsed": true
   },
   "outputs": [],
   "source": []
  }
 ],
 "metadata": {
  "kernelspec": {
   "display_name": "Python [Root]",
   "language": "python",
   "name": "Python [Root]"
  },
  "language_info": {
   "codemirror_mode": {
    "name": "ipython",
    "version": 2
   },
   "file_extension": ".py",
   "mimetype": "text/x-python",
   "name": "python",
   "nbconvert_exporter": "python",
   "pygments_lexer": "ipython2",
   "version": "2.7.12"
  }
 },
 "nbformat": 4,
 "nbformat_minor": 0
}
