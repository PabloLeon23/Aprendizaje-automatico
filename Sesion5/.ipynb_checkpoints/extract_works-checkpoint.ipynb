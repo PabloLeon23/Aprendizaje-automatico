{
 "cells": [
  {
   "cell_type": "code",
   "execution_count": 11,
   "metadata": {
    "collapsed": false
   },
   "outputs": [],
   "source": [
    "import csv\n",
    "\n",
    "f = open('../Data/IncidenciasTDTGeo.csv', 'r')\n",
    "cs = csv.reader(f)\n",
    "\n",
    "new_rows = []\n",
    "new_row= []\n",
    "\n",
    "for row in cs:\n",
    "    if row[0] == 'Obras':\n",
    "            new_row = [row[5]] + row[6].split() + row[7:12] + row[13:]\n",
    "            new_rows.append(new_row)\n",
    "            \n",
    "\n",
    "headers = [ 'poblacion','fecha', 'hora', 'nivel', 'carretera', 'pk_inicial', 'pk_final', 'sentido', 'longitud', 'latitud']\n",
    "with open('../Data/Works.csv', 'w') as csvfile:\n",
    "    writer = csv.writer(csvfile, delimiter=',')\n",
    "    writer.writerow(headers)\n",
    "    writer.writerows(new_rows)\n"
   ]
  },
  {
   "cell_type": "code",
   "execution_count": null,
   "metadata": {
    "collapsed": true
   },
   "outputs": [],
   "source": []
  }
 ],
 "metadata": {
  "anaconda-cloud": {},
  "kernelspec": {
   "display_name": "Python [default]",
   "language": "python",
   "name": "python2"
  },
  "language_info": {
   "codemirror_mode": {
    "name": "ipython",
    "version": 2
   },
   "file_extension": ".py",
   "mimetype": "text/x-python",
   "name": "python",
   "nbconvert_exporter": "python",
   "pygments_lexer": "ipython2",
   "version": "2.7.12"
  }
 },
 "nbformat": 4,
 "nbformat_minor": 1
}
