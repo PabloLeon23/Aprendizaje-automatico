{
 "cells": [
  {
   "cell_type": "code",
   "execution_count": 1,
   "metadata": {
    "collapsed": false
   },
   "outputs": [],
   "source": [
    "from __future__ import division\n",
    "import numpy as np\n",
    "import matplotlib.pyplot as plt\n",
    "from matplotlib.colors import ListedColormap\n",
    "from sklearn import neighbors\n",
    "import pandas as pd\n",
    "\n",
    "%matplotlib inline"
   ]
  },
  {
   "cell_type": "code",
   "execution_count": 2,
   "metadata": {
    "collapsed": false
   },
   "outputs": [],
   "source": [
    "df = pd.read_csv('../Data/Accidents_zones_dbscan.csv')\n",
    "df = df[['longitud', 'latitud', 'zona']]\n",
    "df = df[df['zona'] != -1]"
   ]
  },
  {
   "cell_type": "code",
   "execution_count": 3,
   "metadata": {
    "collapsed": false
   },
   "outputs": [
    {
     "data": {
      "image/png": "[encoded data removed]",
      "text/plain": [
       "<matplotlib.figure.Figure at 0x7fb586c3a450>"
      ]
     },
     "metadata": {},
     "output_type": "display_data"
    },
    {
     "name": "stdout",
     "output_type": "stream",
     "text": [
      "Best K: 2\n"
     ]
    }
   ],
   "source": [
    "train_p = 0.6\n",
    "reps = 100\n",
    "k_errors = [0] * 101\n",
    "\n",
    "for rep in range(reps):\n",
    "    df['is_train'] = np.random.uniform(0, 1, len(df)) <= train_p\n",
    "    df_train = df[df['is_train'] == True]\n",
    "    df_test = df[df['is_train'] == False]\n",
    "    \n",
    "    for n_neighbors in range(1, 101):\n",
    "        clf = neighbors.KNeighborsClassifier(n_neighbors, weights='distance')\n",
    "        clf.fit(df_train[['latitud', 'longitud']], df_train['zona'])\n",
    "        Z = clf.predict(df_test[['latitud', 'longitud']])\n",
    "        err = (df_test['zona'] != Z).sum() / len(df_test)\n",
    "        \n",
    "        k_errors[n_neighbors] += err\n",
    "\n",
    "k_errors = map(lambda x : x / reps, k_errors)\n",
    "\n",
    "plt.title('Selection of best K (distance)')\n",
    "plt.ylabel('Error')\n",
    "plt.xlabel('K')\n",
    "plt.xlim(1, 100)\n",
    "plt.plot(k_errors)\n",
    "plt.show()\n",
    "\n",
    "#Select the last K with the minimum value in the list of k_errors \n",
    "K = len(k_errors) - list(reversed(k_errors)).index(min(k_errors[1:])) - 1\n",
    "print 'Best K: %d' % K"
   ]
  }
 ],
 "metadata": {
  "kernelspec": {
   "display_name": "Python [Root]",
   "language": "python",
   "name": "Python [Root]"
  },
  "language_info": {
   "codemirror_mode": {
    "name": "ipython",
    "version": 2
   },
   "file_extension": ".py",
   "mimetype": "text/x-python",
   "name": "python",
   "nbconvert_exporter": "python",
   "pygments_lexer": "ipython2",
   "version": "2.7.12"
  }
 },
 "nbformat": 4,
 "nbformat_minor": 0
}
