{
 "cells": [
  {
   "cell_type": "code",
   "execution_count": 1,
   "metadata": {
    "collapsed": false
   },
   "outputs": [],
   "source": [
    "from __future__ import division\n",
    "import numpy as np\n",
    "import matplotlib.pyplot as plt\n",
    "from matplotlib.colors import ListedColormap\n",
    "from sklearn import neighbors\n",
    "import pandas as pd"
   ]
  },
  {
   "cell_type": "code",
   "execution_count": 2,
   "metadata": {
    "collapsed": false
   },
   "outputs": [],
   "source": [
    "#Read the accidents with zones file skipping accidents with zone -1\n",
    "df = pd.read_csv('../Data/Accidents_zones_dbscan.csv')\n",
    "df = df[['longitud', 'latitud', 'zona']]\n",
    "df = df[df['zona'] != -1]"
   ]
  },
  {
   "cell_type": "code",
   "execution_count": 3,
   "metadata": {
    "collapsed": false
   },
   "outputs": [
    {
     "name": "stdout",
     "output_type": "stream",
     "text": [
      "Best K: 2\n"
     ]
    }
   ],
   "source": [
    "# Search the best K parameter for KNN testing the model with different K \n",
    "# values and different train samples\n",
    "train_p = 0.6\n",
    "reps = 100\n",
    "k_errors = [0] * 101\n",
    "\n",
    "for rep in range(reps):\n",
    "    df['is_train'] = np.random.uniform(0, 1, len(df)) <= train_p\n",
    "    df_train = df[df['is_train'] == True]\n",
    "    df_test = df[df['is_train'] == False]\n",
    "    \n",
    "    for n_neighbors in range(1, 101):\n",
    "        clf = neighbors.KNeighborsClassifier(n_neighbors, weights='distance')\n",
    "        clf.fit(df_train[['latitud', 'longitud']], df_train['zona'])\n",
    "        Z = clf.predict(df_test[['latitud', 'longitud']])\n",
    "        err = (df_test['zona'] != Z).sum() / len(df_test)\n",
    "        \n",
    "        k_errors[n_neighbors] += err\n",
    "\n",
    "k_errors = map(lambda x : x / reps, k_errors)\n",
    "\n",
    "#Plot the graphic of each K parameters with its error\n",
    "plt.title('Selection of best K (distance)')\n",
    "plt.ylabel('Error')\n",
    "plt.xlabel('K')\n",
    "plt.xlim(1, 100)\n",
    "plt.plot(k_errors)\n",
    "plt.show()\n",
    "\n",
    "#Select the higher K with the minimum value in the list of k_errors \n",
    "K = len(k_errors) - list(reversed(k_errors)).index(min(k_errors[1:])) - 1\n",
    "print 'Best K: %d' % K"
   ]
  },
  {
   "cell_type": "code",
   "execution_count": 4,
   "metadata": {
    "collapsed": false
   },
   "outputs": [],
   "source": [
    "#It will plot the decision boundaries of each zone\n",
    "\n",
    "clf = neighbors.KNeighborsClassifier(K, weights = 'distance')\n",
    "clf.fit(df[['latitud', 'longitud']], df['zona'])\n",
    "\n",
    "#We create color maps (a color for each zone)\n",
    "cmap = ListedColormap(plt.cm.Paired(np.linspace(0, 1, len(np.unique(Z)))))\n",
    "\n",
    "# We create a matrix of coordinates and assig each element of the matrix \n",
    "# to one zone with the KNN algorithm and the K parameter calculated before\n",
    "lat_min, lat_max = df['latitud'].min() - 0.01, df['latitud'].max() + 0.01\n",
    "lon_min, lon_max = df['longitud'].min() - 0.01, df['longitud'].max() + 0.01\n",
    "\n",
    "lats, lons = np.meshgrid(np.arange(lat_min, lat_max, 0.001),\n",
    "                         np.arange(lon_min, lon_max, 0.001))\n",
    "\n",
    "Z = clf.predict(np.c_[lats.ravel(), lons.ravel()])\n",
    "Z = Z.reshape(lats.shape)\n",
    "\n",
    "# Plot the map with colors and the training points\n",
    "plt.figure()\n",
    "plt.pcolormesh(lons, lats, Z, cmap = cmap)\n",
    "plt.scatter(df['longitud'], df['latitud'], c=df['zona'], cmap = cmap)\n",
    "plt.xlim(lons.min(), lons.max())\n",
    "plt.ylim(lats.min(), lats.max())\n",
    "plt.title(\"Zone classification (k = %d), weights = 'distance'\" % (K))\n",
    "\n",
    "plt.show()"
   ]
  },
  {
   "cell_type": "code",
   "execution_count": 5,
   "metadata": {
    "collapsed": false
   },
   "outputs": [],
   "source": [
    "df_works = pd.read_csv('../Data/Works.csv')\n",
    "\n",
    "clf_works = neighbors.KNeighborsClassifier(K, weights='distance')\n",
    "clf_works.fit(df[['latitud', 'longitud']], df['zona'])\n",
    "Z = clf_works.predict(df_works[['latitud', 'longitud']])\n",
    "\n",
    "df_works['zona'] = Z\n",
    "df_works.to_csv('../Data/Works_zones.csv')"
   ]
  }
 ],
 "metadata": {
  "anaconda-cloud": {},
  "kernelspec": {
   "display_name": "Python [Root]",
   "language": "python",
   "name": "Python [Root]"
  },
  "language_info": {
   "codemirror_mode": {
    "name": "ipython",
    "version": 2
   },
   "file_extension": ".py",
   "mimetype": "text/x-python",
   "name": "python",
   "nbconvert_exporter": "python",
   "pygments_lexer": "ipython2",
   "version": "2.7.12"
  }
 },
 "nbformat": 4,
 "nbformat_minor": 0
}
