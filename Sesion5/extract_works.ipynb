{
 "cells": [
  {
   "cell_type": "markdown",
   "metadata": {},
   "source": [
    "<p style=\"font-family:courier;\">1. Extract works from IncidenciasTDTGeo.</p>"
   ]
  },
  {
   "cell_type": "code",
   "execution_count": 2,
   "metadata": {
    "collapsed": false
   },
   "outputs": [],
   "source": [
    "import csv\n",
    "\n",
    "f = open('../Data/Incidencias2007.csv', 'r')\n",
    "cs = csv.reader(f)\n",
    "\n",
    "new_rows = []\n",
    "new_row= []\n",
    "\n",
    "for row in cs:\n",
    "    if row[0] == 'Obras':\n",
    "            new_row = [row[5]] + row[6].split() + row[7:12] + row[13:]\n",
    "            new_rows.append(new_row)\n",
    "            \n",
    "\n",
    "headers = [ 'poblacion','fecha', 'hora', 'nivel', 'carretera', 'pk_inicial', 'pk_final', 'sentido', 'longitud', 'latitud']\n",
    "with open('../Data/Works2007.csv', 'w') as csvfile:\n",
    "    writer = csv.writer(csvfile, delimiter=',')\n",
    "    writer.writerow(headers)\n",
    "    writer.writerows(new_rows)\n"
   ]
  }
 ],
 "metadata": {
  "anaconda-cloud": {},
  "kernelspec": {
   "display_name": "Python [Root]",
   "language": "python",
   "name": "Python [Root]"
  },
  "language_info": {
   "codemirror_mode": {
    "name": "ipython",
    "version": 2
   },
   "file_extension": ".py",
   "mimetype": "text/x-python",
   "name": "python",
   "nbconvert_exporter": "python",
   "pygments_lexer": "ipython2",
   "version": "2.7.12"
  }
 },
 "nbformat": 4,
 "nbformat_minor": 1
}
