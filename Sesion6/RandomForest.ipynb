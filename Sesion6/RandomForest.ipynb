{
 "cells": [
  {
   "cell_type": "code",
   "execution_count": 1,
   "metadata": {
    "collapsed": true
   },
   "outputs": [],
   "source": [
    "import csv\n",
    "import matplotlib.pyplot as plt\n",
    "import numpy as np"
   ]
  },
  {
   "cell_type": "markdown",
   "metadata": {},
   "source": [
    "<p style=\"font-family:courier;\"> 1.Read the file of the zones of accidents labeled with the zone group obtained in the hierarchical clustering.</p>"
   ]
  },
  {
   "cell_type": "code",
   "execution_count": 2,
   "metadata": {
    "collapsed": true
   },
   "outputs": [],
   "source": [
    "file_name_in = open('../Data/Zones_labels.csv')\n",
    "zonas_csv = csv.reader(file_name_in)\n",
    "features = zonas_csv.next()[1:-1]\n",
    "\n",
    "data = []\n",
    "target = []\n",
    "for z in zonas_csv:\n",
    "    data.append(z[1:-1])\n",
    "    target.append(z[-1])\n",
    "    \n",
    "target_names = ['alto', 'bajo',  'medio']"
   ]
  },
  {
   "cell_type": "markdown",
   "metadata": {},
   "source": [
    "<p style=\"font-family:courier;\">2. Create 100 random forests and calculate the average of the feature importance.</p>"
   ]
  },
  {
   "cell_type": "code",
   "execution_count": 3,
   "metadata": {
    "collapsed": false
   },
   "outputs": [],
   "source": [
    "from sklearn.ensemble import RandomForestClassifier\n",
    "\n",
    "its = 100\n",
    "sums = np.zeros(len(features))\n",
    "\n",
    "for _ in range(its):\n",
    "    clf = RandomForestClassifier(n_jobs=-1)\n",
    "    clf.fit(data, target)\n",
    "    sums = sums + clf.feature_importances_\n",
    "feature_importances = sums / its"
   ]
  },
  {
   "cell_type": "markdown",
   "metadata": {},
   "source": [
    "<p style=\"font-family:courier;\">3. Print the feature relevance.</p>"
   ]
  },
  {
   "cell_type": "code",
   "execution_count": 4,
   "metadata": {
    "collapsed": false
   },
   "outputs": [
    {
     "name": "stdout",
     "output_type": "stream",
     "text": [
      "Feature                    Relevance\n",
      "-----------------------  -----------\n",
      "accidents                  0.046314\n",
      "accidents_reach            0.0652895\n",
      "outrage_accidents          0.0106793\n",
      "road_exit_accidents        0.0242762\n",
      "scissor_truck_accidents    0.296826\n",
      "rollover_accidents         0.0389742\n",
      "accidents_winter           0.100325\n",
      "accidents_spring           0.0473026\n",
      "accidentes_summer          0.0508365\n",
      "accidentes_autumn          0.0516046\n",
      "traffic_flow               0.0537051\n",
      "traffic_slow               0.0532932\n",
      "traffic_very_slow          0.0321913\n",
      "trafico_stopped            0.0373937\n",
      "morning(00:00-11:59)       0.047219\n",
      "evening(12:00-23:59)       0.0437697\n"
     ]
    }
   ],
   "source": [
    "from tabulate import tabulate\n",
    "table = zip(features, feature_importances)\n",
    "print tabulate(table, headers = ['Feature', 'Relevance'])"
   ]
  }
 ],
 "metadata": {
  "kernelspec": {
   "display_name": "Python [Root]",
   "language": "python",
   "name": "Python [Root]"
  },
  "language_info": {
   "codemirror_mode": {
    "name": "ipython",
    "version": 2
   },
   "file_extension": ".py",
   "mimetype": "text/x-python",
   "name": "python",
   "nbconvert_exporter": "python",
   "pygments_lexer": "ipython2",
   "version": "2.7.12"
  }
 },
 "nbformat": 4,
 "nbformat_minor": 0
}
