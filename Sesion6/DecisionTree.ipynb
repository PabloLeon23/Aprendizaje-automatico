{
 "cells": [
  {
   "cell_type": "code",
   "execution_count": 1,
   "metadata": {
    "collapsed": false
   },
   "outputs": [],
   "source": [
    "import csv\n",
    "import matplotlib.pyplot as plt\n",
    "import numpy as np"
   ]
  },
  {
   "cell_type": "markdown",
   "metadata": {},
   "source": [
    "<p style=\"font-family:courier;\"> 1.Read the file of the zones of accidents labeled with the zone group obtained in the hierarchical clustering.</p>"
   ]
  },
  {
   "cell_type": "code",
   "execution_count": 2,
   "metadata": {
    "collapsed": false
   },
   "outputs": [],
   "source": [
    "file_name_in = open('../Data/Zones_labels.csv')\n",
    "zonas_csv = csv.reader(file_name_in)\n",
    "features = zonas_csv.next()[1:-1]\n",
    "\n",
    "data = []\n",
    "target = []\n",
    "for z in zonas_csv:\n",
    "    data.append(z[1:-1])\n",
    "    target.append(z[-1])\n",
    "    \n",
    "target_names = ['alto', 'bajo',  'medio']"
   ]
  },
  {
   "cell_type": "markdown",
   "metadata": {},
   "source": [
    "<p style=\"font-family:courier;\">2. Create and fit the Decision Tree with the zones and its labels.</p>"
   ]
  },
  {
   "cell_type": "code",
   "execution_count": 3,
   "metadata": {
    "collapsed": true
   },
   "outputs": [],
   "source": [
    "from sklearn import tree\n",
    "\n",
    "clf = tree.DecisionTreeClassifier(random_state = 0)\n",
    "clf = clf.fit(data, target)"
   ]
  },
  {
   "cell_type": "markdown",
   "metadata": {},
   "source": [
    "<p style=\"font-family:courier;\">3. Print the feature relevance in the Decision Tree.</p>"
   ]
  },
  {
   "cell_type": "code",
   "execution_count": 4,
   "metadata": {
    "collapsed": false
   },
   "outputs": [
    {
     "name": "stdout",
     "output_type": "stream",
     "text": [
      "Feature                    Relevance\n",
      "-----------------------  -----------\n",
      "accidents                  0\n",
      "accidents_reach            0\n",
      "outrage_accidents          0\n",
      "road_exit_accidents        0\n",
      "scissor_truck_accidents    0.574051\n",
      "rollover_accidents         0\n",
      "accidents_winter           0\n",
      "accidents_spring           0.153464\n",
      "accidentes_summer          0\n",
      "accidentes_autumn          0\n",
      "traffic_flow               0.0639432\n",
      "traffic_slow               0\n",
      "traffic_very_slow          0\n",
      "trafico_stopped            0\n",
      "morning(00:00-11:59)       0\n",
      "evening(12:00-23:59)       0.208542\n"
     ]
    }
   ],
   "source": [
    "from tabulate import tabulate\n",
    "table = zip(features, clf.feature_importances_)\n",
    "print tabulate(table, headers = ['Feature', 'Relevance'])"
   ]
  },
  {
   "cell_type": "markdown",
   "metadata": {},
   "source": [
    "<p style=\"font-family:courier;\">4. Write a pdf file with the Decision Tree figure.</p>"
   ]
  },
  {
   "cell_type": "code",
   "execution_count": 5,
   "metadata": {
    "collapsed": false
   },
   "outputs": [
    {
     "data": {
      "text/plain": [
       "True"
      ]
     },
     "execution_count": 5,
     "metadata": {},
     "output_type": "execute_result"
    }
   ],
   "source": [
    "from sklearn.externals.six import StringIO\n",
    "import pydotplus\n",
    "\n",
    "dot_data = StringIO()\n",
    "tree.export_graphviz(clf, \n",
    "                     out_file = dot_data,\n",
    "                     feature_names = features,\n",
    "                     class_names = target_names,\n",
    "                     filled = True,\n",
    "                     rounded = True,\n",
    "                     special_characters = True)\n",
    "\n",
    "graph = pydotplus.graph_from_dot_data(dot_data.getvalue())\n",
    "graph.write_pdf(path = 'zones.pdf')"
   ]
  }
 ],
 "metadata": {
  "anaconda-cloud": {},
  "kernelspec": {
   "display_name": "Python [Root]",
   "language": "python",
   "name": "Python [Root]"
  },
  "language_info": {
   "codemirror_mode": {
    "name": "ipython",
    "version": 2
   },
   "file_extension": ".py",
   "mimetype": "text/x-python",
   "name": "python",
   "nbconvert_exporter": "python",
   "pygments_lexer": "ipython2",
   "version": "2.7.12"
  }
 },
 "nbformat": 4,
 "nbformat_minor": 0
}
